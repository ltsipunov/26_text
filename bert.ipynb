{
 "cells": [
  {
   "cell_type": "code",
   "execution_count": 1,
   "metadata": {
    "colab": {
     "base_uri": "https://localhost:8080/"
    },
    "executionInfo": {
     "elapsed": 11892,
     "status": "ok",
     "timestamp": 1698172284848,
     "user": {
      "displayName": "Leonid Tzypunov",
      "userId": "17743075294559730160"
     },
     "user_tz": -180
    },
    "id": "Intnb7dVz_Oy",
    "outputId": "ab1ff1f6-6095-480a-8a01-f8ffba99a3c2"
   },
   "outputs": [],
   "source": [
    "# !pip install transformers\n",
    "# !pip install catboost\n",
    "\n",
    "# from google.colab import drive\n",
    "# drive.mount(\"/content/drive\")\n",
    "# data"
   ]
  },
  {
   "cell_type": "code",
   "execution_count": 4,
   "metadata": {
    "executionInfo": {
     "elapsed": 11001,
     "status": "ok",
     "timestamp": 1698172298222,
     "user": {
      "displayName": "Leonid Tzypunov",
      "userId": "17743075294559730160"
     },
     "user_tz": -180
    },
    "id": "XEIZy830zYyZ"
   },
   "outputs": [],
   "source": [
    "import numpy as np\n",
    "import pandas as pd\n",
    "import torch\n",
    "import transformers as ppb # pytorch transformers\n",
    "from sklearn.linear_model import LogisticRegression\n",
    "from sklearn.model_selection import cross_val_score\n",
    "from sklearn.model_selection import train_test_split"
   ]
  },
  {
   "cell_type": "code",
   "execution_count": 5,
   "metadata": {},
   "outputs": [],
   "source": [
    "import time\n",
    "time.sleep(2)"
   ]
  },
  {
   "cell_type": "code",
   "execution_count": 6,
   "metadata": {
    "colab": {
     "base_uri": "https://localhost:8080/",
     "height": 385
    },
    "executionInfo": {
     "elapsed": 4261,
     "status": "ok",
     "timestamp": 1698172302469,
     "user": {
      "displayName": "Leonid Tzypunov",
      "userId": "17743075294559730160"
     },
     "user_tz": -180
    },
    "id": "OclsSATL0Pm9",
    "outputId": "c1cd1dd8-056e-4cb8-b5c7-f7a85f2a31cf"
   },
   "outputs": [
    {
     "name": "stdout",
     "output_type": "stream",
     "text": [
      "<class 'pandas.core.frame.DataFrame'>\n",
      "RangeIndex: 5000 entries, 0 to 4999\n",
      "Data columns (total 3 columns):\n",
      " #   Column  Non-Null Count  Dtype \n",
      "---  ------  --------------  ----- \n",
      " 0   index   5000 non-null   int64 \n",
      " 1   text    5000 non-null   object\n",
      " 2   toxic   5000 non-null   int64 \n",
      "dtypes: int64(2), object(1)\n",
      "memory usage: 117.3+ KB\n"
     ]
    },
    {
     "data": {
      "text/html": [
       "<div>\n",
       "<style scoped>\n",
       "    .dataframe tbody tr th:only-of-type {\n",
       "        vertical-align: middle;\n",
       "    }\n",
       "\n",
       "    .dataframe tbody tr th {\n",
       "        vertical-align: top;\n",
       "    }\n",
       "\n",
       "    .dataframe thead th {\n",
       "        text-align: right;\n",
       "    }\n",
       "</style>\n",
       "<table border=\"1\" class=\"dataframe\">\n",
       "  <thead>\n",
       "    <tr style=\"text-align: right;\">\n",
       "      <th></th>\n",
       "      <th>index</th>\n",
       "      <th>text</th>\n",
       "      <th>toxic</th>\n",
       "    </tr>\n",
       "  </thead>\n",
       "  <tbody>\n",
       "    <tr>\n",
       "      <th>0</th>\n",
       "      <td>12348</td>\n",
       "      <td>\"\\n\\nArticle rating\\n\\nI am rating this articl...</td>\n",
       "      <td>0</td>\n",
       "    </tr>\n",
       "    <tr>\n",
       "      <th>1</th>\n",
       "      <td>29981</td>\n",
       "      <td>Nobody said that. But you have a COI and you a...</td>\n",
       "      <td>0</td>\n",
       "    </tr>\n",
       "    <tr>\n",
       "      <th>2</th>\n",
       "      <td>5712</td>\n",
       "      <td>642003399&amp;oldid;=642001720 He attacked me at a...</td>\n",
       "      <td>0</td>\n",
       "    </tr>\n",
       "    <tr>\n",
       "      <th>3</th>\n",
       "      <td>57105</td>\n",
       "      <td>Of course we cannot cut and paste the enitre b...</td>\n",
       "      <td>0</td>\n",
       "    </tr>\n",
       "    <tr>\n",
       "      <th>4</th>\n",
       "      <td>95757</td>\n",
       "      <td>Baichung Bhutia \\n\\nI've replied to you on the...</td>\n",
       "      <td>0</td>\n",
       "    </tr>\n",
       "  </tbody>\n",
       "</table>\n",
       "</div>"
      ],
      "text/plain": [
       "   index                                               text  toxic\n",
       "0  12348  \"\\n\\nArticle rating\\n\\nI am rating this articl...      0\n",
       "1  29981  Nobody said that. But you have a COI and you a...      0\n",
       "2   5712  642003399&oldid;=642001720 He attacked me at a...      0\n",
       "3  57105  Of course we cannot cut and paste the enitre b...      0\n",
       "4  95757  Baichung Bhutia \\n\\nI've replied to you on the...      0"
      ]
     },
     "execution_count": 6,
     "metadata": {},
     "output_type": "execute_result"
    }
   ],
   "source": [
    "data_path='/datasets/'\n",
    "df = pd.read_csv(f\"{data_path}toxic_comments.csv\",index_col=0,encoding='utf-8')\n",
    "df = df.sample(5000).reset_index()\n",
    "df.info()\n",
    "df.head()"
   ]
  },
  {
   "cell_type": "code",
   "execution_count": 7,
   "metadata": {
    "executionInfo": {
     "elapsed": 7161,
     "status": "ok",
     "timestamp": 1698172309623,
     "user": {
      "displayName": "Leonid Tzypunov",
      "userId": "17743075294559730160"
     },
     "user_tz": -180
    },
    "id": "u6bEW7-bz5fk"
   },
   "outputs": [],
   "source": [
    "model_class, tokenizer_class, pretrained_weights = (ppb.MobileBertModel, ppb.MobileBertTokenizer, 'google/mobilebert-uncased')\n",
    "\n",
    "tokenizer = tokenizer_class.from_pretrained(pretrained_weights,)\n",
    "model = model_class.from_pretrained(pretrained_weights)"
   ]
  },
  {
   "cell_type": "code",
   "execution_count": 8,
   "metadata": {
    "colab": {
     "base_uri": "https://localhost:8080/"
    },
    "executionInfo": {
     "elapsed": 17510,
     "status": "ok",
     "timestamp": 1698172327120,
     "user": {
      "displayName": "Leonid Tzypunov",
      "userId": "17743075294559730160"
     },
     "user_tz": -180
    },
    "id": "HJBo_Nsk3lbT",
    "outputId": "eaf2ae26-37a8-40ea-f561-ca8c9b7ae75b"
   },
   "outputs": [
    {
     "name": "stdout",
     "output_type": "stream",
     "text": [
      "CPU times: user 3.79 s, sys: 21.5 ms, total: 3.81 s\n",
      "Wall time: 3.39 s\n"
     ]
    },
    {
     "data": {
      "text/plain": [
       "0       [101, 1000, 3720, 5790, 1045, 2572, 5790, 2023...\n",
       "1       [101, 6343, 2056, 2008, 1012, 2021, 2017, 2031...\n",
       "2       [101, 4185, 28332, 22394, 2683, 2683, 1004, 22...\n",
       "3       [101, 1997, 2607, 2057, 3685, 3013, 1998, 1935...\n",
       "4       [101, 21790, 20760, 3070, 1038, 6979, 10711, 1...\n",
       "                              ...                        \n",
       "4995    [101, 11721, 2128, 27241, 4757, 3672, 1997, 13...\n",
       "4996    [101, 3749, 1997, 2393, 4283, 999, 1045, 2428,...\n",
       "4997    [101, 1000, 2061, 1045, 2001, 2157, 999, 1000,...\n",
       "4998    [101, 9805, 2361, 1010, 2002, 1005, 1055, 1519...\n",
       "4999    [101, 1000, 15501, 6633, 1010, 1000, 1000, 614...\n",
       "Name: text, Length: 5000, dtype: object"
      ]
     },
     "execution_count": 8,
     "metadata": {},
     "output_type": "execute_result"
    }
   ],
   "source": [
    "%%time\n",
    "tokenized = df.text.apply((lambda x: tokenizer.encode(x, add_special_tokens=True)))\n",
    "tokenized"
   ]
  },
  {
   "cell_type": "code",
   "execution_count": 9,
   "metadata": {
    "colab": {
     "base_uri": "https://localhost:8080/"
    },
    "executionInfo": {
     "elapsed": 1024,
     "status": "ok",
     "timestamp": 1698174513759,
     "user": {
      "displayName": "Leonid Tzypunov",
      "userId": "17743075294559730160"
     },
     "user_tz": -180
    },
    "id": "qJSpRAsi3umu",
    "outputId": "9886422f-d73d-4f2f-ef34-3eee412b555d"
   },
   "outputs": [
    {
     "name": "stdout",
     "output_type": "stream",
     "text": [
      "CPU times: user 99.1 ms, sys: 36 µs, total: 99.1 ms\n",
      "Wall time: 98.2 ms\n"
     ]
    },
    {
     "data": {
      "text/plain": [
       "array([[  101.,  1000.,  3720., ...,     0.,     0.,     0.],\n",
       "       [  101.,  6344.,  2056., ...,     0.,     0.,     0.],\n",
       "       [  101.,  4184., 28336., ...,     0.,     0.,     0.],\n",
       "       ...,\n",
       "       [  101.,  1000.,  2060., ...,     0.,     0.,     0.],\n",
       "       [  101.,  9808.,  2360., ...,     0.,     0.,     0.],\n",
       "       [  101.,  1000., 15504., ...,     0.,     0.,     0.]],\n",
       "      dtype=float16)"
      ]
     },
     "execution_count": 9,
     "metadata": {},
     "output_type": "execute_result"
    }
   ],
   "source": [
    "%%time\n",
    "#max_len = int( np.quantile( list( map(len,tokenized)),.99) )\n",
    "max_len = 512\n",
    "padded = np.array([ np.array(row[:max_len] + [0]*(max_len - len(row)),dtype=np.float16) for row in tokenized ])\n",
    "padded"
   ]
  },
  {
   "cell_type": "code",
   "execution_count": 10,
   "metadata": {
    "executionInfo": {
     "elapsed": 270,
     "status": "ok",
     "timestamp": 1698174519378,
     "user": {
      "displayName": "Leonid Tzypunov",
      "userId": "17743075294559730160"
     },
     "user_tz": -180
    },
    "id": "ft2iW73H_qqj"
   },
   "outputs": [],
   "source": [
    "attention_mask = np.where(padded != 0, 1, 0)"
   ]
  },
  {
   "cell_type": "code",
   "execution_count": null,
   "metadata": {
    "colab": {
     "base_uri": "https://localhost:8080/",
     "height": 49,
     "referenced_widgets": [
      "db26d41394db407693f1e61cf7ed1897",
      "76e6f9a6d5f841708537250ed3f73d7b",
      "97d155d7f4314eb688cb682ca947ca7e",
      "da814d4b52d0427aa008bfa1d56fca5a",
      "f0fdbe751eee4254ab5c1d6d1a7e163c",
      "7c46b4ee61a54617a4f517860569af7e",
      "d3cdb755f6464eef8085c8d1e45528df",
      "a264e1da295d4d75b8ad27cc5b6fb50d",
      "8d45202fd9f7432f967f6d7656a036c2",
      "ea09942ff9774ac48d3122fb1491b988",
      "0a3baa34e8f7493c8087669dbaaca7aa"
     ]
    },
    "executionInfo": {
     "elapsed": 5065140,
     "status": "ok",
     "timestamp": 1698179586949,
     "user": {
      "displayName": "Leonid Tzypunov",
      "userId": "17743075294559730160"
     },
     "user_tz": -180
    },
    "id": "NUc-gteKAusC",
    "outputId": "fa3b088e-4fa8-4df6-8d1b-9ce8b14b08da"
   },
   "outputs": [
    {
     "data": {
      "application/vnd.jupyter.widget-view+json": {
       "model_id": "8c6d312ad3b347eda4b6f3bff2aa8a89",
       "version_major": 2,
       "version_minor": 0
      },
      "text/plain": [
       "  0%|          | 0/200 [00:00<?, ?it/s]"
      ]
     },
     "metadata": {},
     "output_type": "display_data"
    },
    {
     "name": "stdout",
     "output_type": "stream",
     "text": [
      "MemTotal:        3856324 kB\n",
      "MemFree:         1962760 kB\n",
      "MemAvailable:    2588552 kB\n",
      "MemTotal:        3856324 kB\n",
      "MemFree:         1293444 kB\n",
      "MemAvailable:    1925892 kB\n",
      "MemTotal:        3856324 kB\n",
      "MemFree:         1202552 kB\n",
      "MemAvailable:    1835000 kB\n",
      "MemTotal:        3856324 kB\n",
      "MemFree:         1067556 kB\n",
      "MemAvailable:    1700004 kB\n",
      "MemTotal:        3856324 kB\n",
      "MemFree:         1067068 kB\n",
      "MemAvailable:    1699516 kB\n",
      "MemTotal:        3856324 kB\n",
      "MemFree:          967588 kB\n",
      "MemAvailable:    1600036 kB\n",
      "MemTotal:        3856324 kB\n",
      "MemFree:          963092 kB\n",
      "MemAvailable:    1595696 kB\n",
      "MemTotal:        3856324 kB\n",
      "MemFree:          958484 kB\n",
      "MemAvailable:    1591096 kB\n",
      "MemTotal:        3856324 kB\n",
      "MemFree:          958812 kB\n",
      "MemAvailable:    1591432 kB\n",
      "MemTotal:        3856324 kB\n",
      "MemFree:          728924 kB\n",
      "MemAvailable:    1361544 kB\n",
      "MemTotal:        3856324 kB\n",
      "MemFree:          570120 kB\n",
      "MemAvailable:    1202740 kB\n",
      "MemTotal:        3856324 kB\n",
      "MemFree:          544980 kB\n",
      "MemAvailable:    1177600 kB\n",
      "MemTotal:        3856324 kB\n",
      "MemFree:          524204 kB\n",
      "MemAvailable:    1156824 kB\n",
      "MemTotal:        3856324 kB\n",
      "MemFree:          494292 kB\n",
      "MemAvailable:    1126912 kB\n",
      "MemTotal:        3856324 kB\n",
      "MemFree:          497124 kB\n",
      "MemAvailable:    1129768 kB\n",
      "MemTotal:        3856324 kB\n",
      "MemFree:          339560 kB\n",
      "MemAvailable:     972220 kB\n",
      "MemTotal:        3856324 kB\n",
      "MemFree:          340800 kB\n",
      "MemAvailable:     941960 kB\n",
      "MemTotal:        3856324 kB\n",
      "MemFree:          356680 kB\n",
      "MemAvailable:     957940 kB\n",
      "MemTotal:        3856324 kB\n",
      "MemFree:          404936 kB\n",
      "MemAvailable:     998604 kB\n",
      "MemTotal:        3856324 kB\n",
      "MemFree:          421156 kB\n",
      "MemAvailable:     939644 kB\n",
      "MemTotal:        3856324 kB\n",
      "MemFree:          328916 kB\n",
      "MemAvailable:     757240 kB\n",
      "MemTotal:        3856324 kB\n",
      "MemFree:          363380 kB\n",
      "MemAvailable:     768032 kB\n",
      "MemTotal:        3856324 kB\n",
      "MemFree:          337836 kB\n",
      "MemAvailable:     657060 kB\n",
      "MemTotal:        3856324 kB\n",
      "MemFree:          380936 kB\n",
      "MemAvailable:     668200 kB\n",
      "MemTotal:        3856324 kB\n",
      "MemFree:          328252 kB\n",
      "MemAvailable:     584768 kB\n",
      "MemTotal:        3856324 kB\n",
      "MemFree:          347312 kB\n",
      "MemAvailable:     563240 kB\n",
      "MemTotal:        3856324 kB\n",
      "MemFree:          402316 kB\n",
      "MemAvailable:     600404 kB\n",
      "MemTotal:        3856324 kB\n",
      "MemFree:          284032 kB\n",
      "MemAvailable:     482780 kB\n",
      "MemTotal:        3856324 kB\n",
      "MemFree:          334556 kB\n",
      "MemAvailable:     514044 kB\n",
      "MemTotal:        3856324 kB\n",
      "MemFree:          375592 kB\n",
      "MemAvailable:     522564 kB\n",
      "MemTotal:        3856324 kB\n",
      "MemFree:          415944 kB\n",
      "MemAvailable:     529928 kB\n",
      "MemTotal:        3856324 kB\n",
      "MemFree:          412864 kB\n",
      "MemAvailable:     527752 kB\n",
      "MemTotal:        3856324 kB\n",
      "MemFree:          400840 kB\n",
      "MemAvailable:     500388 kB\n",
      "MemTotal:        3856324 kB\n",
      "MemFree:          312164 kB\n",
      "MemAvailable:     382932 kB\n",
      "MemTotal:        3856324 kB\n",
      "MemFree:          291708 kB\n",
      "MemAvailable:     362072 kB\n",
      "MemTotal:        3856324 kB\n",
      "MemFree:          406968 kB\n",
      "MemAvailable:     442764 kB\n",
      "MemTotal:        3856324 kB\n",
      "MemFree:          382768 kB\n",
      "MemAvailable:     418564 kB\n",
      "MemTotal:        3856324 kB\n",
      "MemFree:          355816 kB\n",
      "MemAvailable:     375380 kB\n",
      "MemTotal:        3856324 kB\n",
      "MemFree:          383136 kB\n",
      "MemAvailable:     385324 kB\n",
      "MemTotal:        3856324 kB\n",
      "MemFree:          367264 kB\n",
      "MemAvailable:     373924 kB\n",
      "MemTotal:        3856324 kB\n",
      "MemFree:          327704 kB\n",
      "MemAvailable:     334368 kB\n",
      "MemTotal:        3856324 kB\n",
      "MemFree:          327920 kB\n",
      "MemAvailable:     333180 kB\n",
      "MemTotal:        3856324 kB\n",
      "MemFree:          337624 kB\n",
      "MemAvailable:     308556 kB\n",
      "MemTotal:        3856324 kB\n",
      "MemFree:          304424 kB\n",
      "MemAvailable:     277672 kB\n",
      "MemTotal:        3856324 kB\n",
      "MemFree:          375164 kB\n",
      "MemAvailable:     332248 kB\n",
      "MemTotal:        3856324 kB\n",
      "MemFree:          303664 kB\n",
      "MemAvailable:     261360 kB\n"
     ]
    }
   ],
   "source": [
    "from tqdm import notebook\n",
    "batch_size = 25\n",
    "embeddings = []\n",
    "for i in notebook.tqdm(range(padded.shape[0] // batch_size)):\n",
    "        time.sleep(5)\n",
    "        !cat /proc/meminfo | grep Mem\n",
    "        batch = torch.LongTensor(padded[batch_size*i:batch_size*(i+1)])\n",
    "        attention_mask_batch = torch.Tensor(attention_mask[batch_size*i:batch_size*(i+1)])\n",
    "\n",
    "        with torch.no_grad():\n",
    "            batch_embeddings = model(batch, attention_mask=attention_mask_batch)\n",
    "\n",
    "        embeddings.append(batch_embeddings[0][:,0,:].numpy())"
   ]
  },
  {
   "cell_type": "code",
   "execution_count": null,
   "metadata": {
    "executionInfo": {
     "elapsed": 294,
     "status": "ok",
     "timestamp": 1698179638635,
     "user": {
      "displayName": "Leonid Tzypunov",
      "userId": "17743075294559730160"
     },
     "user_tz": -180
    },
    "id": "PcGzsKKGCnqk"
   },
   "outputs": [],
   "source": [
    "features = np.concatenate(embeddings)"
   ]
  },
  {
   "cell_type": "code",
   "execution_count": null,
   "metadata": {
    "executionInfo": {
     "elapsed": 255,
     "status": "ok",
     "timestamp": 1698179692967,
     "user": {
      "displayName": "Leonid Tzypunov",
      "userId": "17743075294559730160"
     },
     "user_tz": -180
    },
    "id": "ItgJDrVeCqPV"
   },
   "outputs": [],
   "source": [
    "X_tr,X_te,y_tr,y_te = train_test_split(features,df.toxic,test_size=.33)"
   ]
  },
  {
   "cell_type": "code",
   "execution_count": null,
   "metadata": {
    "executionInfo": {
     "elapsed": 270,
     "status": "ok",
     "timestamp": 1698179812970,
     "user": {
      "displayName": "Leonid Tzypunov",
      "userId": "17743075294559730160"
     },
     "user_tz": -180
    },
    "id": "-zCwvDdFZjpY"
   },
   "outputs": [],
   "source": [
    "from sklearn.linear_model import LogisticRegression\n",
    "from sklearn.metrics import accuracy_score,precision_score,recall_score,f1_score,confusion_matrix\n",
    "model = LogisticRegression()\n",
    "model.fit(X_tr,y_tr)\n",
    "pr = model.predict(X_te)"
   ]
  },
  {
   "cell_type": "code",
   "execution_count": null,
   "metadata": {
    "colab": {
     "base_uri": "https://localhost:8080/"
    },
    "executionInfo": {
     "elapsed": 292,
     "status": "ok",
     "timestamp": 1698180021259,
     "user": {
      "displayName": "Leonid Tzypunov",
      "userId": "17743075294559730160"
     },
     "user_tz": -180
    },
    "id": "_JYziCsPZ9lu",
    "outputId": "e36420fa-4e6a-45c2-ea88-9d7985e1bdfa"
   },
   "outputs": [],
   "source": [
    "confusion_matrix(y_te,pr)"
   ]
  },
  {
   "cell_type": "code",
   "execution_count": null,
   "metadata": {
    "colab": {
     "base_uri": "https://localhost:8080/"
    },
    "executionInfo": {
     "elapsed": 271,
     "status": "ok",
     "timestamp": 1698180049705,
     "user": {
      "displayName": "Leonid Tzypunov",
      "userId": "17743075294559730160"
     },
     "user_tz": -180
    },
    "id": "IbNSMIHvageo",
    "outputId": "9f02e045-51a5-4161-a6e9-e37f6ae7dccc"
   },
   "outputs": [],
   "source": [
    "features.shape"
   ]
  },
  {
   "cell_type": "code",
   "execution_count": null,
   "metadata": {
    "colab": {
     "base_uri": "https://localhost:8080/"
    },
    "executionInfo": {
     "elapsed": 291,
     "status": "ok",
     "timestamp": 1698180070891,
     "user": {
      "displayName": "Leonid Tzypunov",
      "userId": "17743075294559730160"
     },
     "user_tz": -180
    },
    "id": "5hh3kAfTai5J",
    "outputId": "3a420369-dcca-4a92-8500-aefdacea0540"
   },
   "outputs": [],
   "source": [
    "df.toxic.sum()"
   ]
  },
  {
   "cell_type": "code",
   "execution_count": null,
   "metadata": {
    "executionInfo": {
     "elapsed": 5,
     "status": "ok",
     "timestamp": 1698180140380,
     "user": {
      "displayName": "Leonid Tzypunov",
      "userId": "17743075294559730160"
     },
     "user_tz": -180
    },
    "id": "yUxDwfPna3iX"
   },
   "outputs": [],
   "source": [
    "prb = model.predict_proba(X_te)"
   ]
  },
  {
   "cell_type": "code",
   "execution_count": null,
   "metadata": {
    "colab": {
     "base_uri": "https://localhost:8080/",
     "height": 322
    },
    "executionInfo": {
     "elapsed": 269,
     "status": "error",
     "timestamp": 1698180233789,
     "user": {
      "displayName": "Leonid Tzypunov",
      "userId": "17743075294559730160"
     },
     "user_tz": -180
    },
    "id": "KJg4FYhobEOU",
    "outputId": "48d678ff-9b7e-4e0b-8824-1de5e953542b"
   },
   "outputs": [],
   "source": [
    "from catboost import CatBoostClassifier"
   ]
  },
  {
   "cell_type": "code",
   "execution_count": null,
   "metadata": {
    "id": "jSQTCGWlbFiw"
   },
   "outputs": [],
   "source": []
  }
 ],
 "metadata": {
  "colab": {
   "authorship_tag": "ABX9TyPTAaZN4LY1eg/sph8MpDyG",
   "provenance": [
    {
     "file_id": "108WpXrVM_x7TmX6-TBSLjHafiWKnJsJq",
     "timestamp": 1698169786394
    }
   ]
  },
  "kernelspec": {
   "display_name": "Python 3 (ipykernel)",
   "language": "python",
   "name": "python3"
  },
  "language_info": {
   "codemirror_mode": {
    "name": "ipython",
    "version": 3
   },
   "file_extension": ".py",
   "mimetype": "text/x-python",
   "name": "python",
   "nbconvert_exporter": "python",
   "pygments_lexer": "ipython3",
   "version": "3.9.18"
  },
  "widgets": {
   "application/vnd.jupyter.widget-state+json": {
    "0a3baa34e8f7493c8087669dbaaca7aa": {
     "model_module": "@jupyter-widgets/controls",
     "model_module_version": "1.5.0",
     "model_name": "DescriptionStyleModel",
     "state": {
      "_model_module": "@jupyter-widgets/controls",
      "_model_module_version": "1.5.0",
      "_model_name": "DescriptionStyleModel",
      "_view_count": null,
      "_view_module": "@jupyter-widgets/base",
      "_view_module_version": "1.2.0",
      "_view_name": "StyleView",
      "description_width": ""
     }
    },
    "76e6f9a6d5f841708537250ed3f73d7b": {
     "model_module": "@jupyter-widgets/controls",
     "model_module_version": "1.5.0",
     "model_name": "HTMLModel",
     "state": {
      "_dom_classes": [],
      "_model_module": "@jupyter-widgets/controls",
      "_model_module_version": "1.5.0",
      "_model_name": "HTMLModel",
      "_view_count": null,
      "_view_module": "@jupyter-widgets/controls",
      "_view_module_version": "1.5.0",
      "_view_name": "HTMLView",
      "description": "",
      "description_tooltip": null,
      "layout": "IPY_MODEL_7c46b4ee61a54617a4f517860569af7e",
      "placeholder": "​",
      "style": "IPY_MODEL_d3cdb755f6464eef8085c8d1e45528df",
      "value": "100%"
     }
    },
    "7c46b4ee61a54617a4f517860569af7e": {
     "model_module": "@jupyter-widgets/base",
     "model_module_version": "1.2.0",
     "model_name": "LayoutModel",
     "state": {
      "_model_module": "@jupyter-widgets/base",
      "_model_module_version": "1.2.0",
      "_model_name": "LayoutModel",
      "_view_count": null,
      "_view_module": "@jupyter-widgets/base",
      "_view_module_version": "1.2.0",
      "_view_name": "LayoutView",
      "align_content": null,
      "align_items": null,
      "align_self": null,
      "border": null,
      "bottom": null,
      "display": null,
      "flex": null,
      "flex_flow": null,
      "grid_area": null,
      "grid_auto_columns": null,
      "grid_auto_flow": null,
      "grid_auto_rows": null,
      "grid_column": null,
      "grid_gap": null,
      "grid_row": null,
      "grid_template_areas": null,
      "grid_template_columns": null,
      "grid_template_rows": null,
      "height": null,
      "justify_content": null,
      "justify_items": null,
      "left": null,
      "margin": null,
      "max_height": null,
      "max_width": null,
      "min_height": null,
      "min_width": null,
      "object_fit": null,
      "object_position": null,
      "order": null,
      "overflow": null,
      "overflow_x": null,
      "overflow_y": null,
      "padding": null,
      "right": null,
      "top": null,
      "visibility": null,
      "width": null
     }
    },
    "8d45202fd9f7432f967f6d7656a036c2": {
     "model_module": "@jupyter-widgets/controls",
     "model_module_version": "1.5.0",
     "model_name": "ProgressStyleModel",
     "state": {
      "_model_module": "@jupyter-widgets/controls",
      "_model_module_version": "1.5.0",
      "_model_name": "ProgressStyleModel",
      "_view_count": null,
      "_view_module": "@jupyter-widgets/base",
      "_view_module_version": "1.2.0",
      "_view_name": "StyleView",
      "bar_color": null,
      "description_width": ""
     }
    },
    "97d155d7f4314eb688cb682ca947ca7e": {
     "model_module": "@jupyter-widgets/controls",
     "model_module_version": "1.5.0",
     "model_name": "FloatProgressModel",
     "state": {
      "_dom_classes": [],
      "_model_module": "@jupyter-widgets/controls",
      "_model_module_version": "1.5.0",
      "_model_name": "FloatProgressModel",
      "_view_count": null,
      "_view_module": "@jupyter-widgets/controls",
      "_view_module_version": "1.5.0",
      "_view_name": "ProgressView",
      "bar_style": "success",
      "description": "",
      "description_tooltip": null,
      "layout": "IPY_MODEL_a264e1da295d4d75b8ad27cc5b6fb50d",
      "max": 50,
      "min": 0,
      "orientation": "horizontal",
      "style": "IPY_MODEL_8d45202fd9f7432f967f6d7656a036c2",
      "value": 50
     }
    },
    "a264e1da295d4d75b8ad27cc5b6fb50d": {
     "model_module": "@jupyter-widgets/base",
     "model_module_version": "1.2.0",
     "model_name": "LayoutModel",
     "state": {
      "_model_module": "@jupyter-widgets/base",
      "_model_module_version": "1.2.0",
      "_model_name": "LayoutModel",
      "_view_count": null,
      "_view_module": "@jupyter-widgets/base",
      "_view_module_version": "1.2.0",
      "_view_name": "LayoutView",
      "align_content": null,
      "align_items": null,
      "align_self": null,
      "border": null,
      "bottom": null,
      "display": null,
      "flex": null,
      "flex_flow": null,
      "grid_area": null,
      "grid_auto_columns": null,
      "grid_auto_flow": null,
      "grid_auto_rows": null,
      "grid_column": null,
      "grid_gap": null,
      "grid_row": null,
      "grid_template_areas": null,
      "grid_template_columns": null,
      "grid_template_rows": null,
      "height": null,
      "justify_content": null,
      "justify_items": null,
      "left": null,
      "margin": null,
      "max_height": null,
      "max_width": null,
      "min_height": null,
      "min_width": null,
      "object_fit": null,
      "object_position": null,
      "order": null,
      "overflow": null,
      "overflow_x": null,
      "overflow_y": null,
      "padding": null,
      "right": null,
      "top": null,
      "visibility": null,
      "width": null
     }
    },
    "d3cdb755f6464eef8085c8d1e45528df": {
     "model_module": "@jupyter-widgets/controls",
     "model_module_version": "1.5.0",
     "model_name": "DescriptionStyleModel",
     "state": {
      "_model_module": "@jupyter-widgets/controls",
      "_model_module_version": "1.5.0",
      "_model_name": "DescriptionStyleModel",
      "_view_count": null,
      "_view_module": "@jupyter-widgets/base",
      "_view_module_version": "1.2.0",
      "_view_name": "StyleView",
      "description_width": ""
     }
    },
    "da814d4b52d0427aa008bfa1d56fca5a": {
     "model_module": "@jupyter-widgets/controls",
     "model_module_version": "1.5.0",
     "model_name": "HTMLModel",
     "state": {
      "_dom_classes": [],
      "_model_module": "@jupyter-widgets/controls",
      "_model_module_version": "1.5.0",
      "_model_name": "HTMLModel",
      "_view_count": null,
      "_view_module": "@jupyter-widgets/controls",
      "_view_module_version": "1.5.0",
      "_view_name": "HTMLView",
      "description": "",
      "description_tooltip": null,
      "layout": "IPY_MODEL_ea09942ff9774ac48d3122fb1491b988",
      "placeholder": "​",
      "style": "IPY_MODEL_0a3baa34e8f7493c8087669dbaaca7aa",
      "value": " 50/50 [1:24:24&lt;00:00, 102.91s/it]"
     }
    },
    "db26d41394db407693f1e61cf7ed1897": {
     "model_module": "@jupyter-widgets/controls",
     "model_module_version": "1.5.0",
     "model_name": "HBoxModel",
     "state": {
      "_dom_classes": [],
      "_model_module": "@jupyter-widgets/controls",
      "_model_module_version": "1.5.0",
      "_model_name": "HBoxModel",
      "_view_count": null,
      "_view_module": "@jupyter-widgets/controls",
      "_view_module_version": "1.5.0",
      "_view_name": "HBoxView",
      "box_style": "",
      "children": [
       "IPY_MODEL_76e6f9a6d5f841708537250ed3f73d7b",
       "IPY_MODEL_97d155d7f4314eb688cb682ca947ca7e",
       "IPY_MODEL_da814d4b52d0427aa008bfa1d56fca5a"
      ],
      "layout": "IPY_MODEL_f0fdbe751eee4254ab5c1d6d1a7e163c"
     }
    },
    "ea09942ff9774ac48d3122fb1491b988": {
     "model_module": "@jupyter-widgets/base",
     "model_module_version": "1.2.0",
     "model_name": "LayoutModel",
     "state": {
      "_model_module": "@jupyter-widgets/base",
      "_model_module_version": "1.2.0",
      "_model_name": "LayoutModel",
      "_view_count": null,
      "_view_module": "@jupyter-widgets/base",
      "_view_module_version": "1.2.0",
      "_view_name": "LayoutView",
      "align_content": null,
      "align_items": null,
      "align_self": null,
      "border": null,
      "bottom": null,
      "display": null,
      "flex": null,
      "flex_flow": null,
      "grid_area": null,
      "grid_auto_columns": null,
      "grid_auto_flow": null,
      "grid_auto_rows": null,
      "grid_column": null,
      "grid_gap": null,
      "grid_row": null,
      "grid_template_areas": null,
      "grid_template_columns": null,
      "grid_template_rows": null,
      "height": null,
      "justify_content": null,
      "justify_items": null,
      "left": null,
      "margin": null,
      "max_height": null,
      "max_width": null,
      "min_height": null,
      "min_width": null,
      "object_fit": null,
      "object_position": null,
      "order": null,
      "overflow": null,
      "overflow_x": null,
      "overflow_y": null,
      "padding": null,
      "right": null,
      "top": null,
      "visibility": null,
      "width": null
     }
    },
    "f0fdbe751eee4254ab5c1d6d1a7e163c": {
     "model_module": "@jupyter-widgets/base",
     "model_module_version": "1.2.0",
     "model_name": "LayoutModel",
     "state": {
      "_model_module": "@jupyter-widgets/base",
      "_model_module_version": "1.2.0",
      "_model_name": "LayoutModel",
      "_view_count": null,
      "_view_module": "@jupyter-widgets/base",
      "_view_module_version": "1.2.0",
      "_view_name": "LayoutView",
      "align_content": null,
      "align_items": null,
      "align_self": null,
      "border": null,
      "bottom": null,
      "display": null,
      "flex": null,
      "flex_flow": null,
      "grid_area": null,
      "grid_auto_columns": null,
      "grid_auto_flow": null,
      "grid_auto_rows": null,
      "grid_column": null,
      "grid_gap": null,
      "grid_row": null,
      "grid_template_areas": null,
      "grid_template_columns": null,
      "grid_template_rows": null,
      "height": null,
      "justify_content": null,
      "justify_items": null,
      "left": null,
      "margin": null,
      "max_height": null,
      "max_width": null,
      "min_height": null,
      "min_width": null,
      "object_fit": null,
      "object_position": null,
      "order": null,
      "overflow": null,
      "overflow_x": null,
      "overflow_y": null,
      "padding": null,
      "right": null,
      "top": null,
      "visibility": null,
      "width": null
     }
    }
   }
  }
 },
 "nbformat": 4,
 "nbformat_minor": 1
}
