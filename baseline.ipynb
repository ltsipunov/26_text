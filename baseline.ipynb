{
 "cells": [
  {
   "cell_type": "markdown",
   "metadata": {
    "toc": true
   },
   "source": [
    "<h1>Содержание<span class=\"tocSkip\"></span></h1>\n",
    "<div class=\"toc\"><ul class=\"toc-item\"><li><span><a href=\"#Подготовка\" data-toc-modified-id=\"Подготовка-1\"><span class=\"toc-item-num\">1&nbsp;&nbsp;</span>Подготовка</a></span></li><li><span><a href=\"#Обучение\" data-toc-modified-id=\"Обучение-2\"><span class=\"toc-item-num\">2&nbsp;&nbsp;</span>Обучение</a></span></li><li><span><a href=\"#Выводы\" data-toc-modified-id=\"Выводы-3\"><span class=\"toc-item-num\">3&nbsp;&nbsp;</span>Выводы</a></span></li><li><span><a href=\"#Чек-лист-проверки\" data-toc-modified-id=\"Чек-лист-проверки-4\"><span class=\"toc-item-num\">4&nbsp;&nbsp;</span>Чек-лист проверки</a></span></li></ul></div>"
   ]
  },
  {
   "cell_type": "markdown",
   "metadata": {},
   "source": [
    "# Проект для «Викишоп»"
   ]
  },
  {
   "cell_type": "markdown",
   "metadata": {},
   "source": [
    "Интернет-магазин «Викишоп» запускает новый сервис. Теперь пользователи могут редактировать и дополнять описания товаров, как в вики-сообществах. То есть клиенты предлагают свои правки и комментируют изменения других. Магазину нужен инструмент, который будет искать токсичные комментарии и отправлять их на модерацию. \n",
    "\n",
    "Обучите модель классифицировать комментарии на позитивные и негативные. В вашем распоряжении набор данных с разметкой о токсичности правок.\n",
    "\n",
    "Постройте модель со значением метрики качества *F1* не меньше 0.75. \n",
    "\n",
    "**Инструкция по выполнению проекта**\n",
    "\n",
    "1. Загрузите и подготовьте данные.\n",
    "2. Обучите разные модели. \n",
    "3. Сделайте выводы.\n",
    "\n",
    "Для выполнения проекта применять *BERT* необязательно, но вы можете попробовать.\n",
    "\n",
    "**Описание данных**\n",
    "\n",
    "Данные находятся в файле `toxic_comments.csv`. Столбец *text* в нём содержит текст комментария, а *toxic* — целевой признак."
   ]
  },
  {
   "cell_type": "code",
   "execution_count": 2,
   "metadata": {},
   "outputs": [],
   "source": [
    "import numpy as np\n",
    "import pandas as pd\n",
    "#import nltk\n",
    "#from nltk.corpus import stopwords as nltk_stopwords\n",
    "from sklearn.feature_extraction.text import TfidfVectorizer\n",
    "from sklearn.model_selection import train_test_split,GridSearchCV\n",
    "from sklearn.linear_model import LogisticRegression\n",
    "\n",
    "from catboost import CatBoostClassifier\n",
    "from catboost.text_processing import Tokenizer\n",
    "\n",
    "from sklearn.metrics import accuracy_score,precision_score,recall_score,f1_score,confusion_matrix"
   ]
  },
  {
   "cell_type": "markdown",
   "metadata": {},
   "source": [
    "## Подготовка"
   ]
  },
  {
   "cell_type": "code",
   "execution_count": 4,
   "metadata": {},
   "outputs": [
    {
     "data": {
      "text/html": [
       "<div>\n",
       "<style scoped>\n",
       "    .dataframe tbody tr th:only-of-type {\n",
       "        vertical-align: middle;\n",
       "    }\n",
       "\n",
       "    .dataframe tbody tr th {\n",
       "        vertical-align: top;\n",
       "    }\n",
       "\n",
       "    .dataframe thead th {\n",
       "        text-align: right;\n",
       "    }\n",
       "</style>\n",
       "<table border=\"1\" class=\"dataframe\">\n",
       "  <thead>\n",
       "    <tr style=\"text-align: right;\">\n",
       "      <th></th>\n",
       "      <th>text</th>\n",
       "      <th>toxic</th>\n",
       "    </tr>\n",
       "  </thead>\n",
       "  <tbody>\n",
       "    <tr>\n",
       "      <th>0</th>\n",
       "      <td>Explanation\\nWhy the edits made under my usern...</td>\n",
       "      <td>0</td>\n",
       "    </tr>\n",
       "    <tr>\n",
       "      <th>1</th>\n",
       "      <td>D'aww! He matches this background colour I'm s...</td>\n",
       "      <td>0</td>\n",
       "    </tr>\n",
       "    <tr>\n",
       "      <th>2</th>\n",
       "      <td>Hey man, I'm really not trying to edit war. It...</td>\n",
       "      <td>0</td>\n",
       "    </tr>\n",
       "    <tr>\n",
       "      <th>3</th>\n",
       "      <td>\"\\nMore\\nI can't make any real suggestions on ...</td>\n",
       "      <td>0</td>\n",
       "    </tr>\n",
       "    <tr>\n",
       "      <th>4</th>\n",
       "      <td>You, sir, are my hero. Any chance you remember...</td>\n",
       "      <td>0</td>\n",
       "    </tr>\n",
       "  </tbody>\n",
       "</table>\n",
       "</div>"
      ],
      "text/plain": [
       "                                                text  toxic\n",
       "0  Explanation\\nWhy the edits made under my usern...      0\n",
       "1  D'aww! He matches this background colour I'm s...      0\n",
       "2  Hey man, I'm really not trying to edit war. It...      0\n",
       "3  \"\\nMore\\nI can't make any real suggestions on ...      0\n",
       "4  You, sir, are my hero. Any chance you remember...      0"
      ]
     },
     "execution_count": 4,
     "metadata": {},
     "output_type": "execute_result"
    }
   ],
   "source": [
    "df = pd.read_csv('/datasets/toxic_comments.csv',index_col=0)\n",
    "df.head()"
   ]
  },
  {
   "cell_type": "code",
   "execution_count": 8,
   "metadata": {},
   "outputs": [
    {
     "name": "stdout",
     "output_type": "stream",
     "text": [
      "CPU times: user 48.3 ms, sys: 6.62 ms, total: 54.9 ms\n",
      "Wall time: 52.1 ms\n"
     ]
    }
   ],
   "source": [
    "%%time\n",
    "\n",
    "tr,te = train_test_split(df, test_size = .25, shuffle = True)\n",
    "X = [ 'text' ] \n",
    "y = 'toxic'\n"
   ]
  },
  {
   "cell_type": "markdown",
   "metadata": {},
   "source": [
    "## Обучение"
   ]
  },
  {
   "cell_type": "code",
   "execution_count": 4,
   "metadata": {},
   "outputs": [],
   "source": [
    "tok = Tokenizer(\n",
    "    lowercasing=True,\n",
    "    separator_type='ByDelimiter',\n",
    "    token_types=['Word']\n",
    ")\n"
   ]
  },
  {
   "cell_type": "code",
   "execution_count": 29,
   "metadata": {},
   "outputs": [
    {
     "name": "stdout",
     "output_type": "stream",
     "text": [
      "0:\tlearn: 0.7384624\ttotal: 198ms\tremaining: 3m 17s\n",
      "100:\tlearn: 0.8103162\ttotal: 16.6s\tremaining: 2m 27s\n",
      "200:\tlearn: 0.8319522\ttotal: 34.7s\tremaining: 2m 17s\n",
      "300:\tlearn: 0.8491065\ttotal: 54.8s\tremaining: 2m 7s\n",
      "400:\tlearn: 0.8641802\ttotal: 1m 12s\tremaining: 1m 48s\n",
      "500:\tlearn: 0.8795232\ttotal: 1m 34s\tremaining: 1m 33s\n",
      "600:\tlearn: 0.8912642\ttotal: 1m 55s\tremaining: 1m 16s\n",
      "700:\tlearn: 0.9044433\ttotal: 2m 13s\tremaining: 57s\n",
      "800:\tlearn: 0.9147381\ttotal: 2m 30s\tremaining: 37.4s\n",
      "900:\tlearn: 0.9239395\ttotal: 2m 49s\tremaining: 18.6s\n",
      "999:\tlearn: 0.9310430\ttotal: 3m 6s\tremaining: 0us\n",
      "0:\tlearn: 0.7455769\ttotal: 179ms\tremaining: 2m 58s\n",
      "100:\tlearn: 0.8062791\ttotal: 17.5s\tremaining: 2m 35s\n",
      "200:\tlearn: 0.8287581\ttotal: 33.7s\tremaining: 2m 13s\n",
      "300:\tlearn: 0.8473597\ttotal: 49.9s\tremaining: 1m 55s\n",
      "400:\tlearn: 0.8646014\ttotal: 1m 6s\tremaining: 1m 39s\n",
      "500:\tlearn: 0.8802370\ttotal: 1m 24s\tremaining: 1m 24s\n",
      "600:\tlearn: 0.8935904\ttotal: 1m 42s\tremaining: 1m 8s\n",
      "700:\tlearn: 0.9065037\ttotal: 2m\tremaining: 51.6s\n",
      "800:\tlearn: 0.9175750\ttotal: 2m 19s\tremaining: 34.5s\n",
      "900:\tlearn: 0.9254683\ttotal: 2m 35s\tremaining: 17.1s\n",
      "999:\tlearn: 0.9326086\ttotal: 2m 55s\tremaining: 0us\n",
      "0:\tlearn: 0.7458206\ttotal: 160ms\tremaining: 2m 40s\n",
      "100:\tlearn: 0.8046634\ttotal: 16.8s\tremaining: 2m 29s\n",
      "200:\tlearn: 0.8290415\ttotal: 33.3s\tremaining: 2m 12s\n",
      "300:\tlearn: 0.8478763\ttotal: 49.8s\tremaining: 1m 55s\n",
      "400:\tlearn: 0.8638764\ttotal: 1m 6s\tremaining: 1m 39s\n",
      "500:\tlearn: 0.8796607\ttotal: 1m 23s\tremaining: 1m 22s\n",
      "600:\tlearn: 0.8944085\ttotal: 1m 40s\tremaining: 1m 6s\n",
      "700:\tlearn: 0.9063182\ttotal: 1m 56s\tremaining: 49.8s\n",
      "800:\tlearn: 0.9168555\ttotal: 2m 13s\tremaining: 33.1s\n",
      "900:\tlearn: 0.9251180\ttotal: 2m 29s\tremaining: 16.4s\n",
      "999:\tlearn: 0.9326753\ttotal: 2m 46s\tremaining: 0us\n",
      "0:\tlearn: 0.7400161\ttotal: 159ms\tremaining: 2m 38s\n",
      "100:\tlearn: 0.8069421\ttotal: 16.9s\tremaining: 2m 30s\n",
      "200:\tlearn: 0.8271322\ttotal: 33.2s\tremaining: 2m 12s\n",
      "300:\tlearn: 0.8459124\ttotal: 49.9s\tremaining: 1m 55s\n",
      "400:\tlearn: 0.8624590\ttotal: 1m 6s\tremaining: 1m 39s\n",
      "500:\tlearn: 0.8793388\ttotal: 1m 23s\tremaining: 1m 23s\n",
      "600:\tlearn: 0.8944290\ttotal: 1m 40s\tremaining: 1m 6s\n",
      "700:\tlearn: 0.9059086\ttotal: 1m 56s\tremaining: 49.8s\n",
      "800:\tlearn: 0.9161250\ttotal: 2m 13s\tremaining: 33.2s\n",
      "900:\tlearn: 0.9239861\ttotal: 2m 29s\tremaining: 16.5s\n",
      "999:\tlearn: 0.9311520\ttotal: 2m 46s\tremaining: 0us\n",
      "0:\tlearn: 0.7384624\ttotal: 182ms\tremaining: 3m 1s\n",
      "100:\tlearn: 0.7818421\ttotal: 16.8s\tremaining: 2m 29s\n",
      "200:\tlearn: 0.7970163\ttotal: 33.6s\tremaining: 2m 13s\n",
      "300:\tlearn: 0.8087605\ttotal: 50.4s\tremaining: 1m 57s\n",
      "400:\tlearn: 0.8164913\ttotal: 1m 6s\tremaining: 1m 39s\n",
      "500:\tlearn: 0.8220893\ttotal: 1m 23s\tremaining: 1m 22s\n",
      "600:\tlearn: 0.8292159\ttotal: 1m 39s\tremaining: 1m 6s\n",
      "700:\tlearn: 0.8344654\ttotal: 1m 56s\tremaining: 49.5s\n",
      "800:\tlearn: 0.8417576\ttotal: 2m 12s\tremaining: 32.9s\n",
      "900:\tlearn: 0.8479061\ttotal: 2m 29s\tremaining: 16.4s\n",
      "999:\tlearn: 0.8528706\ttotal: 2m 45s\tremaining: 0us\n",
      "0:\tlearn: 0.7455769\ttotal: 161ms\tremaining: 2m 40s\n",
      "100:\tlearn: 0.7788043\ttotal: 16.9s\tremaining: 2m 30s\n",
      "200:\tlearn: 0.7936328\ttotal: 33.5s\tremaining: 2m 13s\n",
      "300:\tlearn: 0.8035279\ttotal: 49.9s\tremaining: 1m 55s\n",
      "400:\tlearn: 0.8119765\ttotal: 1m 6s\tremaining: 1m 39s\n",
      "500:\tlearn: 0.8192875\ttotal: 1m 22s\tremaining: 1m 22s\n",
      "600:\tlearn: 0.8258912\ttotal: 1m 39s\tremaining: 1m 5s\n",
      "700:\tlearn: 0.8334085\ttotal: 1m 55s\tremaining: 49.3s\n",
      "800:\tlearn: 0.8382808\ttotal: 2m 12s\tremaining: 32.8s\n",
      "900:\tlearn: 0.8448087\ttotal: 2m 28s\tremaining: 16.3s\n",
      "999:\tlearn: 0.8501702\ttotal: 2m 44s\tremaining: 0us\n",
      "0:\tlearn: 0.7458206\ttotal: 161ms\tremaining: 2m 41s\n",
      "100:\tlearn: 0.7776230\ttotal: 17.1s\tremaining: 2m 32s\n",
      "200:\tlearn: 0.7930658\ttotal: 33.7s\tremaining: 2m 14s\n",
      "300:\tlearn: 0.8018436\ttotal: 50.3s\tremaining: 1m 56s\n",
      "400:\tlearn: 0.8117497\ttotal: 1m 6s\tremaining: 1m 39s\n",
      "500:\tlearn: 0.8186087\ttotal: 1m 23s\tremaining: 1m 23s\n",
      "600:\tlearn: 0.8250892\ttotal: 1m 40s\tremaining: 1m 6s\n",
      "700:\tlearn: 0.8310688\ttotal: 1m 56s\tremaining: 49.8s\n",
      "800:\tlearn: 0.8370703\ttotal: 2m 13s\tremaining: 33.1s\n",
      "900:\tlearn: 0.8436063\ttotal: 2m 29s\tremaining: 16.5s\n",
      "999:\tlearn: 0.8488766\ttotal: 2m 46s\tremaining: 0us\n",
      "0:\tlearn: 0.7400161\ttotal: 153ms\tremaining: 2m 33s\n",
      "100:\tlearn: 0.7771067\ttotal: 16.8s\tremaining: 2m 29s\n",
      "200:\tlearn: 0.7919252\ttotal: 33.5s\tremaining: 2m 13s\n",
      "300:\tlearn: 0.8043111\ttotal: 50s\tremaining: 1m 56s\n",
      "400:\tlearn: 0.8116368\ttotal: 1m 6s\tremaining: 1m 39s\n",
      "500:\tlearn: 0.8169178\ttotal: 1m 22s\tremaining: 1m 22s\n",
      "600:\tlearn: 0.8239278\ttotal: 1m 39s\tremaining: 1m 6s\n",
      "700:\tlearn: 0.8313606\ttotal: 1m 55s\tremaining: 49.4s\n",
      "800:\tlearn: 0.8367174\ttotal: 2m 12s\tremaining: 32.9s\n",
      "900:\tlearn: 0.8439653\ttotal: 2m 28s\tremaining: 16.4s\n",
      "999:\tlearn: 0.8486751\ttotal: 2m 45s\tremaining: 0us\n",
      "0:\tlearn: 0.7384624\ttotal: 165ms\tremaining: 2m 45s\n",
      "100:\tlearn: 0.7624001\ttotal: 17.2s\tremaining: 2m 33s\n",
      "200:\tlearn: 0.7737397\ttotal: 33.9s\tremaining: 2m 14s\n",
      "300:\tlearn: 0.7799707\ttotal: 50.5s\tremaining: 1m 57s\n",
      "400:\tlearn: 0.7853246\ttotal: 1m 7s\tremaining: 1m 40s\n",
      "500:\tlearn: 0.7912937\ttotal: 1m 23s\tremaining: 1m 23s\n",
      "600:\tlearn: 0.7950848\ttotal: 1m 40s\tremaining: 1m 6s\n",
      "700:\tlearn: 0.7987576\ttotal: 1m 57s\tremaining: 50s\n",
      "800:\tlearn: 0.8016970\ttotal: 2m 13s\tremaining: 33.3s\n",
      "900:\tlearn: 0.8043834\ttotal: 2m 30s\tremaining: 16.5s\n",
      "999:\tlearn: 0.8078085\ttotal: 2m 46s\tremaining: 0us\n",
      "0:\tlearn: 0.7455769\ttotal: 163ms\tremaining: 2m 43s\n",
      "100:\tlearn: 0.7619149\ttotal: 17.1s\tremaining: 2m 32s\n",
      "200:\tlearn: 0.7704560\ttotal: 33.8s\tremaining: 2m 14s\n",
      "300:\tlearn: 0.7759275\ttotal: 50.4s\tremaining: 1m 57s\n",
      "400:\tlearn: 0.7801735\ttotal: 1m 6s\tremaining: 1m 39s\n",
      "500:\tlearn: 0.7858399\ttotal: 1m 23s\tremaining: 1m 23s\n",
      "600:\tlearn: 0.7893688\ttotal: 1m 40s\tremaining: 1m 6s\n",
      "700:\tlearn: 0.7932029\ttotal: 1m 56s\tremaining: 49.8s\n",
      "800:\tlearn: 0.7974053\ttotal: 2m 13s\tremaining: 33.1s\n",
      "900:\tlearn: 0.8011819\ttotal: 2m 29s\tremaining: 16.5s\n",
      "999:\tlearn: 0.8030328\ttotal: 2m 46s\tremaining: 0us\n",
      "0:\tlearn: 0.7458206\ttotal: 165ms\tremaining: 2m 44s\n",
      "100:\tlearn: 0.7618305\ttotal: 17.1s\tremaining: 2m 32s\n",
      "200:\tlearn: 0.7711274\ttotal: 33.6s\tremaining: 2m 13s\n",
      "300:\tlearn: 0.7755097\ttotal: 50s\tremaining: 1m 56s\n",
      "400:\tlearn: 0.7815977\ttotal: 1m 6s\tremaining: 1m 39s\n",
      "500:\tlearn: 0.7862346\ttotal: 1m 23s\tremaining: 1m 22s\n",
      "600:\tlearn: 0.7903136\ttotal: 1m 39s\tremaining: 1m 6s\n",
      "700:\tlearn: 0.7941137\ttotal: 1m 56s\tremaining: 49.8s\n",
      "800:\tlearn: 0.7966582\ttotal: 2m 13s\tremaining: 33.1s\n",
      "900:\tlearn: 0.7998884\ttotal: 2m 29s\tremaining: 16.5s\n",
      "999:\tlearn: 0.8018683\ttotal: 2m 46s\tremaining: 0us\n",
      "0:\tlearn: 0.7400161\ttotal: 163ms\tremaining: 2m 43s\n",
      "100:\tlearn: 0.7619028\ttotal: 17.1s\tremaining: 2m 32s\n",
      "200:\tlearn: 0.7706523\ttotal: 33.8s\tremaining: 2m 14s\n",
      "300:\tlearn: 0.7760502\ttotal: 50.6s\tremaining: 1m 57s\n",
      "400:\tlearn: 0.7810139\ttotal: 1m 7s\tremaining: 1m 40s\n",
      "500:\tlearn: 0.7869513\ttotal: 1m 24s\tremaining: 1m 23s\n",
      "600:\tlearn: 0.7911159\ttotal: 1m 40s\tremaining: 1m 6s\n",
      "700:\tlearn: 0.7961138\ttotal: 1m 57s\tremaining: 50s\n",
      "800:\tlearn: 0.7984585\ttotal: 2m 13s\tremaining: 33.2s\n",
      "900:\tlearn: 0.8010580\ttotal: 2m 30s\tremaining: 16.5s\n",
      "999:\tlearn: 0.8039399\ttotal: 2m 46s\tremaining: 0us\n",
      "0:\tlearn: 0.7384624\ttotal: 161ms\tremaining: 2m 40s\n",
      "100:\tlearn: 0.7472435\ttotal: 17s\tremaining: 2m 30s\n",
      "200:\tlearn: 0.7565642\ttotal: 33.9s\tremaining: 2m 14s\n",
      "300:\tlearn: 0.7624884\ttotal: 51s\tremaining: 1m 58s\n",
      "400:\tlearn: 0.7668398\ttotal: 1m 7s\tremaining: 1m 41s\n",
      "500:\tlearn: 0.7694185\ttotal: 1m 24s\tremaining: 1m 24s\n",
      "600:\tlearn: 0.7728047\ttotal: 1m 41s\tremaining: 1m 7s\n",
      "700:\tlearn: 0.7750722\ttotal: 1m 57s\tremaining: 50.1s\n",
      "800:\tlearn: 0.7766793\ttotal: 2m 14s\tremaining: 33.3s\n",
      "900:\tlearn: 0.7784379\ttotal: 2m 30s\tremaining: 16.5s\n",
      "999:\tlearn: 0.7806458\ttotal: 2m 46s\tremaining: 0us\n",
      "0:\tlearn: 0.7455769\ttotal: 171ms\tremaining: 2m 50s\n",
      "100:\tlearn: 0.7456796\ttotal: 17s\tremaining: 2m 31s\n",
      "200:\tlearn: 0.7550724\ttotal: 34.1s\tremaining: 2m 15s\n",
      "300:\tlearn: 0.7602989\ttotal: 51.2s\tremaining: 1m 58s\n",
      "400:\tlearn: 0.7649969\ttotal: 1m 8s\tremaining: 1m 41s\n",
      "500:\tlearn: 0.7668608\ttotal: 1m 25s\tremaining: 1m 24s\n",
      "600:\tlearn: 0.7702466\ttotal: 1m 41s\tremaining: 1m 7s\n",
      "700:\tlearn: 0.7722114\ttotal: 1m 58s\tremaining: 50.5s\n",
      "800:\tlearn: 0.7739766\ttotal: 2m 15s\tremaining: 33.6s\n",
      "900:\tlearn: 0.7769755\ttotal: 2m 31s\tremaining: 16.7s\n",
      "999:\tlearn: 0.7779925\ttotal: 2m 48s\tremaining: 0us\n",
      "0:\tlearn: 0.7458206\ttotal: 180ms\tremaining: 2m 59s\n",
      "100:\tlearn: 0.7449300\ttotal: 17.1s\tremaining: 2m 32s\n"
     ]
    },
    {
     "name": "stdout",
     "output_type": "stream",
     "text": [
      "200:\tlearn: 0.7561296\ttotal: 34.2s\tremaining: 2m 16s\n",
      "300:\tlearn: 0.7609823\ttotal: 51.6s\tremaining: 1m 59s\n",
      "400:\tlearn: 0.7645473\ttotal: 1m 8s\tremaining: 1m 42s\n",
      "500:\tlearn: 0.7685000\ttotal: 1m 25s\tremaining: 1m 25s\n",
      "600:\tlearn: 0.7711226\ttotal: 1m 41s\tremaining: 1m 7s\n",
      "700:\tlearn: 0.7725662\ttotal: 1m 58s\tremaining: 50.5s\n",
      "800:\tlearn: 0.7743196\ttotal: 2m 15s\tremaining: 33.6s\n",
      "900:\tlearn: 0.7764143\ttotal: 2m 31s\tremaining: 16.7s\n",
      "999:\tlearn: 0.7781092\ttotal: 2m 48s\tremaining: 0us\n",
      "0:\tlearn: 0.7400161\ttotal: 164ms\tremaining: 2m 43s\n",
      "100:\tlearn: 0.7454060\ttotal: 17.1s\tremaining: 2m 31s\n",
      "200:\tlearn: 0.7566346\ttotal: 34.2s\tremaining: 2m 15s\n",
      "300:\tlearn: 0.7607385\ttotal: 51.3s\tremaining: 1m 59s\n",
      "400:\tlearn: 0.7642849\ttotal: 1m 8s\tremaining: 1m 41s\n",
      "500:\tlearn: 0.7678471\ttotal: 1m 25s\tremaining: 1m 24s\n",
      "600:\tlearn: 0.7698833\ttotal: 1m 41s\tremaining: 1m 7s\n",
      "700:\tlearn: 0.7719081\ttotal: 1m 58s\tremaining: 50.5s\n",
      "800:\tlearn: 0.7741933\ttotal: 2m 15s\tremaining: 33.6s\n",
      "900:\tlearn: 0.7759129\ttotal: 2m 31s\tremaining: 16.7s\n",
      "999:\tlearn: 0.7775066\ttotal: 2m 48s\tremaining: 0us\n",
      "0:\tlearn: 0.7964554\ttotal: 162ms\tremaining: 2m 41s\n",
      "100:\tlearn: 0.8846817\ttotal: 17.2s\tremaining: 2m 33s\n",
      "200:\tlearn: 0.9083651\ttotal: 34s\tremaining: 2m 15s\n",
      "300:\tlearn: 0.9265634\ttotal: 50.6s\tremaining: 1m 57s\n",
      "400:\tlearn: 0.9380588\ttotal: 1m 7s\tremaining: 1m 40s\n",
      "500:\tlearn: 0.9472505\ttotal: 1m 24s\tremaining: 1m 23s\n",
      "600:\tlearn: 0.9542097\ttotal: 1m 40s\tremaining: 1m 6s\n",
      "700:\tlearn: 0.9589568\ttotal: 1m 58s\tremaining: 50.7s\n",
      "800:\tlearn: 0.9631590\ttotal: 2m 18s\tremaining: 34.4s\n",
      "900:\tlearn: 0.9666908\ttotal: 2m 35s\tremaining: 17.1s\n",
      "999:\tlearn: 0.9700863\ttotal: 2m 52s\tremaining: 0us\n",
      "0:\tlearn: 0.7954011\ttotal: 178ms\tremaining: 2m 57s\n",
      "100:\tlearn: 0.8863408\ttotal: 16.9s\tremaining: 2m 30s\n",
      "200:\tlearn: 0.9099282\ttotal: 33.6s\tremaining: 2m 13s\n",
      "300:\tlearn: 0.9255244\ttotal: 50.5s\tremaining: 1m 57s\n",
      "400:\tlearn: 0.9390833\ttotal: 1m 7s\tremaining: 1m 40s\n",
      "500:\tlearn: 0.9480589\ttotal: 1m 23s\tremaining: 1m 23s\n",
      "600:\tlearn: 0.9553179\ttotal: 1m 40s\tremaining: 1m 6s\n",
      "700:\tlearn: 0.9597487\ttotal: 1m 57s\tremaining: 50s\n",
      "800:\tlearn: 0.9645149\ttotal: 2m 14s\tremaining: 33.3s\n",
      "900:\tlearn: 0.9677913\ttotal: 2m 31s\tremaining: 16.6s\n",
      "999:\tlearn: 0.9700744\ttotal: 2m 48s\tremaining: 0us\n",
      "0:\tlearn: 0.8021207\ttotal: 179ms\tremaining: 2m 59s\n",
      "100:\tlearn: 0.8868479\ttotal: 16.9s\tremaining: 2m 30s\n",
      "200:\tlearn: 0.9086210\ttotal: 33.8s\tremaining: 2m 14s\n",
      "300:\tlearn: 0.9235044\ttotal: 50.5s\tremaining: 1m 57s\n",
      "400:\tlearn: 0.9377542\ttotal: 1m 7s\tremaining: 1m 40s\n",
      "500:\tlearn: 0.9472835\ttotal: 1m 26s\tremaining: 1m 25s\n",
      "600:\tlearn: 0.9545020\ttotal: 1m 42s\tremaining: 1m 8s\n",
      "700:\tlearn: 0.9592332\ttotal: 1m 59s\tremaining: 50.8s\n",
      "800:\tlearn: 0.9636023\ttotal: 2m 15s\tremaining: 33.7s\n",
      "900:\tlearn: 0.9662513\ttotal: 2m 32s\tremaining: 16.8s\n",
      "999:\tlearn: 0.9691047\ttotal: 2m 49s\tremaining: 0us\n",
      "0:\tlearn: 0.7965869\ttotal: 160ms\tremaining: 2m 40s\n",
      "100:\tlearn: 0.8843686\ttotal: 16.9s\tremaining: 2m 30s\n",
      "200:\tlearn: 0.9075492\ttotal: 33.5s\tremaining: 2m 13s\n",
      "300:\tlearn: 0.9249778\ttotal: 50s\tremaining: 1m 56s\n",
      "400:\tlearn: 0.9381581\ttotal: 1m 6s\tremaining: 1m 39s\n",
      "500:\tlearn: 0.9474724\ttotal: 1m 23s\tremaining: 1m 23s\n",
      "600:\tlearn: 0.9543228\ttotal: 1m 40s\tremaining: 1m 6s\n",
      "700:\tlearn: 0.9593490\ttotal: 1m 57s\tremaining: 49.9s\n",
      "800:\tlearn: 0.9636288\ttotal: 2m 13s\tremaining: 33.3s\n",
      "900:\tlearn: 0.9668565\ttotal: 2m 31s\tremaining: 16.7s\n",
      "999:\tlearn: 0.9697194\ttotal: 2m 48s\tremaining: 0us\n",
      "0:\tlearn: 0.7964554\ttotal: 162ms\tremaining: 2m 41s\n",
      "100:\tlearn: 0.8569062\ttotal: 16.9s\tremaining: 2m 30s\n",
      "200:\tlearn: 0.8723396\ttotal: 33.8s\tremaining: 2m 14s\n",
      "300:\tlearn: 0.8837242\ttotal: 50.5s\tremaining: 1m 57s\n",
      "400:\tlearn: 0.8925100\ttotal: 1m 7s\tremaining: 1m 40s\n",
      "500:\tlearn: 0.9005531\ttotal: 1m 23s\tremaining: 1m 23s\n",
      "600:\tlearn: 0.9083785\ttotal: 1m 40s\tremaining: 1m 6s\n",
      "700:\tlearn: 0.9149563\ttotal: 1m 56s\tremaining: 49.8s\n",
      "800:\tlearn: 0.9211743\ttotal: 2m 13s\tremaining: 33.1s\n",
      "900:\tlearn: 0.9262426\ttotal: 2m 29s\tremaining: 16.5s\n",
      "999:\tlearn: 0.9317777\ttotal: 2m 46s\tremaining: 0us\n",
      "0:\tlearn: 0.7954011\ttotal: 158ms\tremaining: 2m 37s\n",
      "100:\tlearn: 0.8575380\ttotal: 16.9s\tremaining: 2m 30s\n",
      "200:\tlearn: 0.8732460\ttotal: 33.6s\tremaining: 2m 13s\n",
      "300:\tlearn: 0.8839189\ttotal: 50.2s\tremaining: 1m 56s\n",
      "400:\tlearn: 0.8931363\ttotal: 1m 6s\tremaining: 1m 39s\n",
      "500:\tlearn: 0.9017232\ttotal: 1m 23s\tremaining: 1m 22s\n",
      "600:\tlearn: 0.9095750\ttotal: 1m 39s\tremaining: 1m 6s\n",
      "700:\tlearn: 0.9154731\ttotal: 1m 56s\tremaining: 49.7s\n",
      "800:\tlearn: 0.9220347\ttotal: 2m 13s\tremaining: 33.1s\n",
      "900:\tlearn: 0.9278341\ttotal: 2m 29s\tremaining: 16.4s\n",
      "999:\tlearn: 0.9328444\ttotal: 2m 46s\tremaining: 0us\n",
      "0:\tlearn: 0.8021207\ttotal: 162ms\tremaining: 2m 42s\n",
      "100:\tlearn: 0.8582892\ttotal: 17s\tremaining: 2m 31s\n",
      "200:\tlearn: 0.8745126\ttotal: 33.7s\tremaining: 2m 14s\n",
      "300:\tlearn: 0.8855230\ttotal: 50.5s\tremaining: 1m 57s\n",
      "400:\tlearn: 0.8956265\ttotal: 1m 7s\tremaining: 1m 40s\n",
      "500:\tlearn: 0.9025067\ttotal: 1m 23s\tremaining: 1m 23s\n",
      "600:\tlearn: 0.9099624\ttotal: 1m 40s\tremaining: 1m 6s\n",
      "700:\tlearn: 0.9161033\ttotal: 1m 57s\tremaining: 50s\n",
      "800:\tlearn: 0.9217880\ttotal: 2m 13s\tremaining: 33.3s\n",
      "900:\tlearn: 0.9277246\ttotal: 2m 30s\tremaining: 16.5s\n",
      "999:\tlearn: 0.9324682\ttotal: 2m 46s\tremaining: 0us\n",
      "0:\tlearn: 0.7965869\ttotal: 163ms\tremaining: 2m 42s\n",
      "100:\tlearn: 0.8567563\ttotal: 17.1s\tremaining: 2m 32s\n",
      "200:\tlearn: 0.8728722\ttotal: 33.8s\tremaining: 2m 14s\n",
      "300:\tlearn: 0.8837679\ttotal: 50.5s\tremaining: 1m 57s\n",
      "400:\tlearn: 0.8926612\ttotal: 1m 6s\tremaining: 1m 39s\n",
      "500:\tlearn: 0.9008163\ttotal: 1m 23s\tremaining: 1m 23s\n",
      "600:\tlearn: 0.9084708\ttotal: 1m 39s\tremaining: 1m 6s\n",
      "700:\tlearn: 0.9150297\ttotal: 1m 56s\tremaining: 49.8s\n",
      "800:\tlearn: 0.9223913\ttotal: 2m 13s\tremaining: 33.1s\n",
      "900:\tlearn: 0.9273005\ttotal: 2m 30s\tremaining: 16.5s\n",
      "999:\tlearn: 0.9328484\ttotal: 2m 46s\tremaining: 0us\n",
      "0:\tlearn: 0.7964554\ttotal: 158ms\tremaining: 2m 37s\n",
      "100:\tlearn: 0.8397470\ttotal: 17.3s\tremaining: 2m 34s\n",
      "200:\tlearn: 0.8491919\ttotal: 34.1s\tremaining: 2m 15s\n",
      "300:\tlearn: 0.8539468\ttotal: 51.5s\tremaining: 1m 59s\n",
      "400:\tlearn: 0.8599220\ttotal: 1m 8s\tremaining: 1m 42s\n",
      "500:\tlearn: 0.8653972\ttotal: 1m 25s\tremaining: 1m 24s\n",
      "600:\tlearn: 0.8693337\ttotal: 1m 41s\tremaining: 1m 7s\n",
      "700:\tlearn: 0.8733801\ttotal: 1m 58s\tremaining: 50.5s\n",
      "800:\tlearn: 0.8760520\ttotal: 2m 14s\tremaining: 33.5s\n",
      "900:\tlearn: 0.8786788\ttotal: 2m 31s\tremaining: 16.7s\n",
      "999:\tlearn: 0.8820115\ttotal: 2m 48s\tremaining: 0us\n",
      "0:\tlearn: 0.7954011\ttotal: 154ms\tremaining: 2m 34s\n",
      "100:\tlearn: 0.8407396\ttotal: 17.4s\tremaining: 2m 35s\n",
      "200:\tlearn: 0.8494888\ttotal: 34.5s\tremaining: 2m 17s\n",
      "300:\tlearn: 0.8542625\ttotal: 51s\tremaining: 1m 58s\n",
      "400:\tlearn: 0.8594525\ttotal: 1m 7s\tremaining: 1m 41s\n",
      "500:\tlearn: 0.8653908\ttotal: 1m 24s\tremaining: 1m 24s\n",
      "600:\tlearn: 0.8695100\ttotal: 1m 41s\tremaining: 1m 7s\n",
      "700:\tlearn: 0.8731901\ttotal: 1m 57s\tremaining: 50.3s\n",
      "800:\tlearn: 0.8767060\ttotal: 2m 14s\tremaining: 33.4s\n",
      "900:\tlearn: 0.8805108\ttotal: 2m 31s\tremaining: 16.6s\n",
      "999:\tlearn: 0.8833245\ttotal: 2m 47s\tremaining: 0us\n",
      "0:\tlearn: 0.8021207\ttotal: 162ms\tremaining: 2m 42s\n",
      "100:\tlearn: 0.8421115\ttotal: 18s\tremaining: 2m 39s\n",
      "200:\tlearn: 0.8512775\ttotal: 34.8s\tremaining: 2m 18s\n",
      "300:\tlearn: 0.8557763\ttotal: 51.3s\tremaining: 1m 59s\n",
      "400:\tlearn: 0.8611256\ttotal: 1m 8s\tremaining: 1m 41s\n",
      "500:\tlearn: 0.8665654\ttotal: 1m 25s\tremaining: 1m 24s\n",
      "600:\tlearn: 0.8712328\ttotal: 1m 41s\tremaining: 1m 7s\n",
      "700:\tlearn: 0.8744109\ttotal: 1m 58s\tremaining: 50.4s\n",
      "800:\tlearn: 0.8780970\ttotal: 2m 14s\tremaining: 33.5s\n",
      "900:\tlearn: 0.8819569\ttotal: 2m 31s\tremaining: 16.6s\n",
      "999:\tlearn: 0.8853307\ttotal: 2m 47s\tremaining: 0us\n",
      "0:\tlearn: 0.7965869\ttotal: 157ms\tremaining: 2m 36s\n",
      "100:\tlearn: 0.8403679\ttotal: 17.4s\tremaining: 2m 34s\n",
      "200:\tlearn: 0.8491090\ttotal: 34.3s\tremaining: 2m 16s\n",
      "300:\tlearn: 0.8547469\ttotal: 50.9s\tremaining: 1m 58s\n",
      "400:\tlearn: 0.8605708\ttotal: 1m 7s\tremaining: 1m 40s\n",
      "500:\tlearn: 0.8666889\ttotal: 1m 24s\tremaining: 1m 24s\n",
      "600:\tlearn: 0.8702438\ttotal: 1m 41s\tremaining: 1m 7s\n",
      "700:\tlearn: 0.8739164\ttotal: 1m 58s\tremaining: 50.4s\n",
      "800:\tlearn: 0.8777228\ttotal: 2m 14s\tremaining: 33.5s\n",
      "900:\tlearn: 0.8803231\ttotal: 2m 31s\tremaining: 16.6s\n",
      "999:\tlearn: 0.8829903\ttotal: 2m 48s\tremaining: 0us\n",
      "0:\tlearn: 0.7964554\ttotal: 156ms\tremaining: 2m 35s\n",
      "100:\tlearn: 0.8244279\ttotal: 17.2s\tremaining: 2m 33s\n",
      "200:\tlearn: 0.8347889\ttotal: 34.5s\tremaining: 2m 17s\n",
      "300:\tlearn: 0.8397031\ttotal: 51.7s\tremaining: 2m\n"
     ]
    },
    {
     "name": "stdout",
     "output_type": "stream",
     "text": [
      "400:\tlearn: 0.8432555\ttotal: 1m 8s\tremaining: 1m 42s\n",
      "500:\tlearn: 0.8469209\ttotal: 1m 25s\tremaining: 1m 25s\n",
      "600:\tlearn: 0.8490692\ttotal: 1m 42s\tremaining: 1m 7s\n",
      "700:\tlearn: 0.8515380\ttotal: 1m 58s\tremaining: 50.7s\n",
      "800:\tlearn: 0.8528449\ttotal: 2m 15s\tremaining: 33.7s\n",
      "900:\tlearn: 0.8540197\ttotal: 2m 32s\tremaining: 16.7s\n",
      "999:\tlearn: 0.8552274\ttotal: 2m 48s\tremaining: 0us\n",
      "0:\tlearn: 0.7954011\ttotal: 153ms\tremaining: 2m 33s\n",
      "100:\tlearn: 0.8219296\ttotal: 17.2s\tremaining: 2m 32s\n",
      "200:\tlearn: 0.8355294\ttotal: 34.6s\tremaining: 2m 17s\n",
      "300:\tlearn: 0.8407723\ttotal: 51.6s\tremaining: 1m 59s\n",
      "400:\tlearn: 0.8438556\ttotal: 1m 8s\tremaining: 1m 42s\n",
      "500:\tlearn: 0.8473075\ttotal: 1m 25s\tremaining: 1m 25s\n",
      "600:\tlearn: 0.8493549\ttotal: 1m 41s\tremaining: 1m 7s\n",
      "700:\tlearn: 0.8509264\ttotal: 1m 58s\tremaining: 50.6s\n",
      "800:\tlearn: 0.8527380\ttotal: 2m 15s\tremaining: 33.6s\n",
      "900:\tlearn: 0.8546974\ttotal: 2m 32s\tremaining: 16.7s\n",
      "999:\tlearn: 0.8561092\ttotal: 2m 48s\tremaining: 0us\n",
      "0:\tlearn: 0.8021207\ttotal: 175ms\tremaining: 2m 54s\n",
      "100:\tlearn: 0.8248143\ttotal: 17.2s\tremaining: 2m 33s\n",
      "200:\tlearn: 0.8354897\ttotal: 34.6s\tremaining: 2m 17s\n",
      "300:\tlearn: 0.8421520\ttotal: 51.8s\tremaining: 2m\n",
      "400:\tlearn: 0.8462788\ttotal: 1m 8s\tremaining: 1m 42s\n",
      "500:\tlearn: 0.8489512\ttotal: 1m 25s\tremaining: 1m 25s\n",
      "600:\tlearn: 0.8515163\ttotal: 1m 42s\tremaining: 1m 7s\n",
      "700:\tlearn: 0.8532769\ttotal: 1m 59s\tremaining: 50.8s\n",
      "800:\tlearn: 0.8547999\ttotal: 2m 15s\tremaining: 33.7s\n",
      "900:\tlearn: 0.8564289\ttotal: 2m 32s\tremaining: 16.7s\n",
      "999:\tlearn: 0.8577230\ttotal: 2m 48s\tremaining: 0us\n",
      "0:\tlearn: 0.7965869\ttotal: 182ms\tremaining: 3m 1s\n",
      "100:\tlearn: 0.8214788\ttotal: 17.3s\tremaining: 2m 33s\n",
      "200:\tlearn: 0.8339313\ttotal: 34.8s\tremaining: 2m 18s\n",
      "300:\tlearn: 0.8400095\ttotal: 52.1s\tremaining: 2m 1s\n",
      "400:\tlearn: 0.8442436\ttotal: 1m 8s\tremaining: 1m 43s\n",
      "500:\tlearn: 0.8472466\ttotal: 1m 25s\tremaining: 1m 25s\n",
      "600:\tlearn: 0.8497191\ttotal: 1m 42s\tremaining: 1m 8s\n",
      "700:\tlearn: 0.8513603\ttotal: 1m 59s\tremaining: 50.9s\n",
      "800:\tlearn: 0.8531184\ttotal: 2m 16s\tremaining: 33.8s\n",
      "900:\tlearn: 0.8545715\ttotal: 2m 32s\tremaining: 16.8s\n",
      "999:\tlearn: 0.8565544\ttotal: 2m 49s\tremaining: 0us\n"
     ]
    },
    {
     "name": "stderr",
     "output_type": "stream",
     "text": [
      "/home/ltz/anaconda3/lib/python3.9/site-packages/sklearn/model_selection/_validation.py:425: FitFailedWarning: \n",
      "16 fits failed out of a total of 48.\n",
      "The score on these train-test partitions for these parameters will be set to nan.\n",
      "If these failures are not expected, you can try to debug them by setting error_score='raise'.\n",
      "\n",
      "Below are more details about the failures:\n",
      "--------------------------------------------------------------------------------\n",
      "16 fits failed with the following error:\n",
      "Traceback (most recent call last):\n",
      "  File \"/home/ltz/anaconda3/lib/python3.9/site-packages/sklearn/model_selection/_validation.py\", line 732, in _fit_and_score\n",
      "    estimator.fit(X_train, y_train, **fit_params)\n",
      "  File \"/home/ltz/anaconda3/lib/python3.9/site-packages/catboost/core.py\", line 5131, in fit\n",
      "    self._fit(X, y, cat_features, text_features, embedding_features, None, sample_weight, None, None, None, None, baseline, use_best_model,\n",
      "  File \"/home/ltz/anaconda3/lib/python3.9/site-packages/catboost/core.py\", line 2341, in _fit\n",
      "    train_params = self._prepare_train_params(\n",
      "  File \"/home/ltz/anaconda3/lib/python3.9/site-packages/catboost/core.py\", line 2268, in _prepare_train_params\n",
      "    _check_train_params(params)\n",
      "  File \"_catboost.pyx\", line 6084, in _catboost._check_train_params\n",
      "  File \"_catboost.pyx\", line 6103, in _catboost._check_train_params\n",
      "_catboost.CatBoostError: /src/catboost/catboost/private/libs/options/json_helper.h:173: Can't parse parameter \"auto_class_weights\" with value: null\n",
      "\n",
      "  warnings.warn(some_fits_failed_message, FitFailedWarning)\n",
      "/home/ltz/anaconda3/lib/python3.9/site-packages/sklearn/model_selection/_search.py:976: UserWarning: One or more of the test scores are non-finite: [0.94152596 0.94117061 0.9397915  0.93889534 0.92962082 0.92131254\n",
      " 0.9174442  0.91770649        nan        nan        nan        nan]\n",
      "  warnings.warn(\n"
     ]
    },
    {
     "name": "stdout",
     "output_type": "stream",
     "text": [
      "0:\tlearn: 0.7403711\ttotal: 165ms\tremaining: 2m 44s\n",
      "100:\tlearn: 0.8078041\ttotal: 17.9s\tremaining: 2m 39s\n",
      "200:\tlearn: 0.8252506\ttotal: 35.2s\tremaining: 2m 20s\n",
      "300:\tlearn: 0.8402978\ttotal: 52.7s\tremaining: 2m 2s\n",
      "400:\tlearn: 0.8530671\ttotal: 1m 10s\tremaining: 1m 44s\n",
      "500:\tlearn: 0.8655247\ttotal: 1m 27s\tremaining: 1m 27s\n",
      "600:\tlearn: 0.8763538\ttotal: 1m 45s\tremaining: 1m 10s\n",
      "700:\tlearn: 0.8881198\ttotal: 2m 3s\tremaining: 52.5s\n",
      "800:\tlearn: 0.8990210\ttotal: 2m 21s\tremaining: 35s\n",
      "900:\tlearn: 0.9082995\ttotal: 2m 38s\tremaining: 17.4s\n",
      "999:\tlearn: 0.9161650\ttotal: 2m 56s\tremaining: 0us\n",
      "CPU times: user 7h 4min 25s, sys: 4h 40min 55s, total: 11h 45min 20s\n",
      "Wall time: 1h 36min 35s\n"
     ]
    },
    {
     "data": {
      "text/html": [
       "<style>#sk-container-id-1 {color: black;}#sk-container-id-1 pre{padding: 0;}#sk-container-id-1 div.sk-toggleable {background-color: white;}#sk-container-id-1 label.sk-toggleable__label {cursor: pointer;display: block;width: 100%;margin-bottom: 0;padding: 0.3em;box-sizing: border-box;text-align: center;}#sk-container-id-1 label.sk-toggleable__label-arrow:before {content: \"▸\";float: left;margin-right: 0.25em;color: #696969;}#sk-container-id-1 label.sk-toggleable__label-arrow:hover:before {color: black;}#sk-container-id-1 div.sk-estimator:hover label.sk-toggleable__label-arrow:before {color: black;}#sk-container-id-1 div.sk-toggleable__content {max-height: 0;max-width: 0;overflow: hidden;text-align: left;background-color: #f0f8ff;}#sk-container-id-1 div.sk-toggleable__content pre {margin: 0.2em;color: black;border-radius: 0.25em;background-color: #f0f8ff;}#sk-container-id-1 input.sk-toggleable__control:checked~div.sk-toggleable__content {max-height: 200px;max-width: 100%;overflow: auto;}#sk-container-id-1 input.sk-toggleable__control:checked~label.sk-toggleable__label-arrow:before {content: \"▾\";}#sk-container-id-1 div.sk-estimator input.sk-toggleable__control:checked~label.sk-toggleable__label {background-color: #d4ebff;}#sk-container-id-1 div.sk-label input.sk-toggleable__control:checked~label.sk-toggleable__label {background-color: #d4ebff;}#sk-container-id-1 input.sk-hidden--visually {border: 0;clip: rect(1px 1px 1px 1px);clip: rect(1px, 1px, 1px, 1px);height: 1px;margin: -1px;overflow: hidden;padding: 0;position: absolute;width: 1px;}#sk-container-id-1 div.sk-estimator {font-family: monospace;background-color: #f0f8ff;border: 1px dotted black;border-radius: 0.25em;box-sizing: border-box;margin-bottom: 0.5em;}#sk-container-id-1 div.sk-estimator:hover {background-color: #d4ebff;}#sk-container-id-1 div.sk-parallel-item::after {content: \"\";width: 100%;border-bottom: 1px solid gray;flex-grow: 1;}#sk-container-id-1 div.sk-label:hover label.sk-toggleable__label {background-color: #d4ebff;}#sk-container-id-1 div.sk-serial::before {content: \"\";position: absolute;border-left: 1px solid gray;box-sizing: border-box;top: 0;bottom: 0;left: 50%;z-index: 0;}#sk-container-id-1 div.sk-serial {display: flex;flex-direction: column;align-items: center;background-color: white;padding-right: 0.2em;padding-left: 0.2em;position: relative;}#sk-container-id-1 div.sk-item {position: relative;z-index: 1;}#sk-container-id-1 div.sk-parallel {display: flex;align-items: stretch;justify-content: center;background-color: white;position: relative;}#sk-container-id-1 div.sk-item::before, #sk-container-id-1 div.sk-parallel-item::before {content: \"\";position: absolute;border-left: 1px solid gray;box-sizing: border-box;top: 0;bottom: 0;left: 50%;z-index: -1;}#sk-container-id-1 div.sk-parallel-item {display: flex;flex-direction: column;z-index: 1;position: relative;background-color: white;}#sk-container-id-1 div.sk-parallel-item:first-child::after {align-self: flex-end;width: 50%;}#sk-container-id-1 div.sk-parallel-item:last-child::after {align-self: flex-start;width: 50%;}#sk-container-id-1 div.sk-parallel-item:only-child::after {width: 0;}#sk-container-id-1 div.sk-dashed-wrapped {border: 1px dashed gray;margin: 0 0.4em 0.5em 0.4em;box-sizing: border-box;padding-bottom: 0.4em;background-color: white;}#sk-container-id-1 div.sk-label label {font-family: monospace;font-weight: bold;display: inline-block;line-height: 1.2em;}#sk-container-id-1 div.sk-label-container {text-align: center;}#sk-container-id-1 div.sk-container {/* jupyter's `normalize.less` sets `[hidden] { display: none; }` but bootstrap.min.css set `[hidden] { display: none !important; }` so we also need the `!important` here to be able to override the default hidden behavior on the sphinx rendered scikit-learn.org. See: https://github.com/scikit-learn/scikit-learn/issues/21755 */display: inline-block !important;position: relative;}#sk-container-id-1 div.sk-text-repr-fallback {display: none;}</style><div id=\"sk-container-id-1\" class=\"sk-top-container\"><div class=\"sk-text-repr-fallback\"><pre>GridSearchCV(cv=4,\n",
       "             estimator=&lt;catboost.core.CatBoostClassifier object at 0x7f9c9a79c9d0&gt;,\n",
       "             param_grid={&#x27;auto_class_weights&#x27;: [&#x27;SqrtBalanced&#x27;, &#x27;Balanced&#x27;,\n",
       "                                                None],\n",
       "                         &#x27;learning_rate&#x27;: [0.3, 0.1, 0.03, 0.01]},\n",
       "             scoring=&#x27;f1_weighted&#x27;)</pre><b>In a Jupyter environment, please rerun this cell to show the HTML representation or trust the notebook. <br />On GitHub, the HTML representation is unable to render, please try loading this page with nbviewer.org.</b></div><div class=\"sk-container\" hidden><div class=\"sk-item sk-dashed-wrapped\"><div class=\"sk-label-container\"><div class=\"sk-label sk-toggleable\"><input class=\"sk-toggleable__control sk-hidden--visually\" id=\"sk-estimator-id-1\" type=\"checkbox\" ><label for=\"sk-estimator-id-1\" class=\"sk-toggleable__label sk-toggleable__label-arrow\">GridSearchCV</label><div class=\"sk-toggleable__content\"><pre>GridSearchCV(cv=4,\n",
       "             estimator=&lt;catboost.core.CatBoostClassifier object at 0x7f9c9a79c9d0&gt;,\n",
       "             param_grid={&#x27;auto_class_weights&#x27;: [&#x27;SqrtBalanced&#x27;, &#x27;Balanced&#x27;,\n",
       "                                                None],\n",
       "                         &#x27;learning_rate&#x27;: [0.3, 0.1, 0.03, 0.01]},\n",
       "             scoring=&#x27;f1_weighted&#x27;)</pre></div></div></div><div class=\"sk-parallel\"><div class=\"sk-parallel-item\"><div class=\"sk-item\"><div class=\"sk-label-container\"><div class=\"sk-label sk-toggleable\"><input class=\"sk-toggleable__control sk-hidden--visually\" id=\"sk-estimator-id-2\" type=\"checkbox\" ><label for=\"sk-estimator-id-2\" class=\"sk-toggleable__label sk-toggleable__label-arrow\">estimator: CatBoostClassifier</label><div class=\"sk-toggleable__content\"><pre>&lt;catboost.core.CatBoostClassifier object at 0x7f9c9a79c9d0&gt;</pre></div></div></div><div class=\"sk-serial\"><div class=\"sk-item\"><div class=\"sk-estimator sk-toggleable\"><input class=\"sk-toggleable__control sk-hidden--visually\" id=\"sk-estimator-id-3\" type=\"checkbox\" ><label for=\"sk-estimator-id-3\" class=\"sk-toggleable__label sk-toggleable__label-arrow\">CatBoostClassifier</label><div class=\"sk-toggleable__content\"><pre>&lt;catboost.core.CatBoostClassifier object at 0x7f9c9a79c9d0&gt;</pre></div></div></div></div></div></div></div></div></div></div>"
      ],
      "text/plain": [
       "GridSearchCV(cv=4,\n",
       "             estimator=<catboost.core.CatBoostClassifier object at 0x7f9c9a79c9d0>,\n",
       "             param_grid={'auto_class_weights': ['SqrtBalanced', 'Balanced',\n",
       "                                                None],\n",
       "                         'learning_rate': [0.3, 0.1, 0.03, 0.01]},\n",
       "             scoring='f1_weighted')"
      ]
     },
     "execution_count": 29,
     "metadata": {},
     "output_type": "execute_result"
    }
   ],
   "source": [
    "%%time\n",
    "params_grid ={\n",
    "    'learning_rate':[0.3,.1,.03,.01],\n",
    "    'auto_class_weights':['SqrtBalanced']\n",
    "}\n",
    "cbc = GridSearchCV( \n",
    "    CatBoostClassifier( eval_metric='F1',text_features = X,tokenizers=verbose= 100  ),\n",
    "    params_grid,\n",
    "    scoring='f1_weighted',\n",
    "    cv= 4)  \n",
    "cbc.fit(tr[X],tr[y])"
   ]
  },
  {
   "cell_type": "code",
   "execution_count": 30,
   "metadata": {},
   "outputs": [
    {
     "data": {
      "text/plain": [
       "{'mean_fit_time': array([1.80591636e+02, 1.72052562e+02, 1.72840027e+02, 1.74259291e+02,\n",
       "        1.76323581e+02, 1.72846996e+02, 1.74331292e+02, 1.75073971e+02,\n",
       "        4.65340614e-02, 3.16201448e-02, 3.48017812e-02, 3.73852253e-02]),\n",
       " 'std_fit_time': array([8.36674347e+00, 4.22584988e-01, 3.47478723e-01, 6.66180839e-01,\n",
       "        2.09515558e+00, 2.46811626e-01, 3.44319653e-01, 3.87839272e-01,\n",
       "        2.36616661e-02, 2.61194300e-04, 5.14900582e-03, 5.67147569e-03]),\n",
       " 'mean_score_time': array([0.68075418, 0.57535881, 0.4171837 , 0.40378666, 0.61664939,\n",
       "        0.54189628, 0.46334076, 0.49872804, 0.        , 0.        ,\n",
       "        0.        , 0.        ]),\n",
       " 'std_score_time': array([0.02235291, 0.03585024, 0.02386976, 0.01869129, 0.01651636,\n",
       "        0.01609823, 0.01094381, 0.02445594, 0.        , 0.        ,\n",
       "        0.        , 0.        ]),\n",
       " 'param_auto_class_weights': masked_array(data=['SqrtBalanced', 'SqrtBalanced', 'SqrtBalanced',\n",
       "                    'SqrtBalanced', 'Balanced', 'Balanced', 'Balanced',\n",
       "                    'Balanced', None, None, None, None],\n",
       "              mask=[False, False, False, False, False, False, False, False,\n",
       "                    False, False, False, False],\n",
       "        fill_value='?',\n",
       "             dtype=object),\n",
       " 'param_learning_rate': masked_array(data=[0.3, 0.1, 0.03, 0.01, 0.3, 0.1, 0.03, 0.01, 0.3, 0.1,\n",
       "                    0.03, 0.01],\n",
       "              mask=[False, False, False, False, False, False, False, False,\n",
       "                    False, False, False, False],\n",
       "        fill_value='?',\n",
       "             dtype=object),\n",
       " 'params': [{'auto_class_weights': 'SqrtBalanced', 'learning_rate': 0.3},\n",
       "  {'auto_class_weights': 'SqrtBalanced', 'learning_rate': 0.1},\n",
       "  {'auto_class_weights': 'SqrtBalanced', 'learning_rate': 0.03},\n",
       "  {'auto_class_weights': 'SqrtBalanced', 'learning_rate': 0.01},\n",
       "  {'auto_class_weights': 'Balanced', 'learning_rate': 0.3},\n",
       "  {'auto_class_weights': 'Balanced', 'learning_rate': 0.1},\n",
       "  {'auto_class_weights': 'Balanced', 'learning_rate': 0.03},\n",
       "  {'auto_class_weights': 'Balanced', 'learning_rate': 0.01},\n",
       "  {'auto_class_weights': None, 'learning_rate': 0.3},\n",
       "  {'auto_class_weights': None, 'learning_rate': 0.1},\n",
       "  {'auto_class_weights': None, 'learning_rate': 0.03},\n",
       "  {'auto_class_weights': None, 'learning_rate': 0.01}],\n",
       " 'split0_test_score': array([0.93978773, 0.93926612, 0.93770416, 0.93671355, 0.92748451,\n",
       "        0.91930818, 0.91518036, 0.91582116,        nan,        nan,\n",
       "               nan,        nan]),\n",
       " 'split1_test_score': array([0.94362213, 0.94365385, 0.94188428, 0.94084266, 0.93217425,\n",
       "        0.92394146, 0.91944543, 0.91980037,        nan,        nan,\n",
       "               nan,        nan]),\n",
       " 'split2_test_score': array([0.94196751, 0.94220037, 0.94070579, 0.93938111, 0.92974475,\n",
       "        0.92239041, 0.91837127, 0.91896458,        nan,        nan,\n",
       "               nan,        nan]),\n",
       " 'split3_test_score': array([0.94072648, 0.93956208, 0.93887178, 0.93864404, 0.92907977,\n",
       "        0.9196101 , 0.91677972, 0.91623985,        nan,        nan,\n",
       "               nan,        nan]),\n",
       " 'mean_test_score': array([0.94152596, 0.94117061, 0.9397915 , 0.93889534, 0.92962082,\n",
       "        0.92131254, 0.9174442 , 0.91770649,        nan,        nan,\n",
       "               nan,        nan]),\n",
       " 'std_test_score': array([0.0014361 , 0.00183312, 0.00161389, 0.00148756, 0.0016876 ,\n",
       "        0.00193577, 0.00161484, 0.00170826,        nan,        nan,\n",
       "               nan,        nan]),\n",
       " 'rank_test_score': array([1, 2, 3, 4, 5, 6, 8, 7, 9, 9, 9, 9], dtype=int32)}"
      ]
     },
     "execution_count": 30,
     "metadata": {},
     "output_type": "execute_result"
    }
   ],
   "source": [
    "cbc.cv_results_"
   ]
  },
  {
   "cell_type": "code",
   "execution_count": null,
   "metadata": {},
   "outputs": [],
   "source": [
    "pr = cbc.predict(te[X])"
   ]
  },
  {
   "cell_type": "code",
   "execution_count": 50,
   "metadata": {},
   "outputs": [
    {
     "name": "stdout",
     "output_type": "stream",
     "text": [
      "f1_score:0.7194634335096092\t\n",
      "accuracy_score:0.9453833211962936\t\n",
      "precision_score:0.752563410685375\t\n",
      "recall_score:0.689152458611317\t\n"
     ]
    }
   ],
   "source": [
    "for metric in [f1_score,accuracy_score,precision_score,recall_score]:\n",
    "    print(f\"{metric.__name__}:{metric(te[y],pr)}\\t\")"
   ]
  },
  {
   "cell_type": "code",
   "execution_count": 75,
   "metadata": {},
   "outputs": [
    {
     "ename": "TypeError",
     "evalue": "__init__() got an unexpected keyword argument 'eval_period'",
     "output_type": "error",
     "traceback": [
      "\u001b[0;31m---------------------------------------------------------------------------\u001b[0m",
      "\u001b[0;31mTypeError\u001b[0m                                 Traceback (most recent call last)",
      "Cell \u001b[0;32mIn[75], line 1\u001b[0m\n\u001b[0;32m----> 1\u001b[0m model \u001b[38;5;241m=\u001b[39m  \u001b[43mCatBoostClassifier\u001b[49m\u001b[43m(\u001b[49m\u001b[43m \u001b[49m\u001b[43meval_metric\u001b[49m\u001b[38;5;241;43m=\u001b[39;49m\u001b[38;5;124;43m'\u001b[39;49m\u001b[38;5;124;43mF1\u001b[39;49m\u001b[38;5;124;43m'\u001b[39;49m\u001b[43m,\u001b[49m\u001b[43meval_period\u001b[49m\u001b[38;5;241;43m=\u001b[39;49m\u001b[38;5;241;43m50\u001b[39;49m\u001b[43m,\u001b[49m\u001b[43mtext_features\u001b[49m\u001b[43m \u001b[49m\u001b[38;5;241;43m=\u001b[39;49m\u001b[43m \u001b[49m\u001b[43mX\u001b[49m\u001b[43m,\u001b[49m\u001b[43mverbose\u001b[49m\u001b[38;5;241;43m=\u001b[39;49m\u001b[43m \u001b[49m\u001b[38;5;241;43m100\u001b[39;49m\u001b[43m,\u001b[49m\u001b[43mn_estimators\u001b[49m\u001b[38;5;241;43m=\u001b[39;49m\u001b[38;5;241;43m500\u001b[39;49m\u001b[43m \u001b[49m\u001b[43m,\u001b[49m\u001b[43m \u001b[49m\u001b[43mlearning_rate\u001b[49m\u001b[38;5;241;43m=\u001b[39;49m\u001b[38;5;241;43m.03\u001b[39;49m\u001b[43m \u001b[49m\u001b[43m)\u001b[49m\n",
      "\u001b[0;31mTypeError\u001b[0m: __init__() got an unexpected keyword argument 'eval_period'"
     ]
    }
   ],
   "source": [
    "model =  CatBoostClassifier( eval_metric='F1',eval_period=50,text_features = X,verbose= 100,n_estimators=500 , learning_rate=.03 )"
   ]
  },
  {
   "cell_type": "code",
   "execution_count": 48,
   "metadata": {},
   "outputs": [
    {
     "name": "stdout",
     "output_type": "stream",
     "text": [
      "0:\tlearn: 0.7403711\ttotal: 175ms\tremaining: 14m 35s\n",
      "100:\tlearn: 0.8078041\ttotal: 17.8s\tremaining: 14m 25s\n",
      "200:\tlearn: 0.8252506\ttotal: 35.4s\tremaining: 14m 5s\n",
      "300:\tlearn: 0.8402978\ttotal: 53.2s\tremaining: 13m 50s\n",
      "400:\tlearn: 0.8530671\ttotal: 1m 13s\tremaining: 13m 58s\n",
      "500:\tlearn: 0.8655247\ttotal: 1m 32s\tremaining: 13m 46s\n",
      "600:\tlearn: 0.8763538\ttotal: 1m 51s\tremaining: 13m 37s\n",
      "700:\tlearn: 0.8881198\ttotal: 2m 11s\tremaining: 13m 25s\n",
      "800:\tlearn: 0.8990210\ttotal: 2m 29s\tremaining: 13m 2s\n",
      "900:\tlearn: 0.9082995\ttotal: 2m 47s\tremaining: 12m 43s\n",
      "1000:\tlearn: 0.9163515\ttotal: 3m 7s\tremaining: 12m 28s\n",
      "1100:\tlearn: 0.9234957\ttotal: 3m 25s\tremaining: 12m 7s\n",
      "1200:\tlearn: 0.9300662\ttotal: 3m 43s\tremaining: 11m 47s\n",
      "1300:\tlearn: 0.9353959\ttotal: 4m 2s\tremaining: 11m 28s\n",
      "1400:\tlearn: 0.9398499\ttotal: 4m 19s\tremaining: 11m 7s\n",
      "1500:\tlearn: 0.9444344\ttotal: 4m 39s\tremaining: 10m 50s\n",
      "1600:\tlearn: 0.9483924\ttotal: 4m 57s\tremaining: 10m 30s\n",
      "1700:\tlearn: 0.9507273\ttotal: 5m 15s\tremaining: 10m 12s\n",
      "1800:\tlearn: 0.9535833\ttotal: 5m 33s\tremaining: 9m 52s\n",
      "1900:\tlearn: 0.9568097\ttotal: 5m 51s\tremaining: 9m 33s\n",
      "2000:\tlearn: 0.9594824\ttotal: 6m 9s\tremaining: 9m 14s\n",
      "2100:\tlearn: 0.9619037\ttotal: 6m 28s\tremaining: 8m 56s\n",
      "2200:\tlearn: 0.9638221\ttotal: 6m 47s\tremaining: 8m 38s\n",
      "2300:\tlearn: 0.9656704\ttotal: 7m 6s\tremaining: 8m 20s\n",
      "2400:\tlearn: 0.9667116\ttotal: 7m 24s\tremaining: 8m 1s\n",
      "2500:\tlearn: 0.9683049\ttotal: 7m 42s\tremaining: 7m 42s\n",
      "2600:\tlearn: 0.9696355\ttotal: 8m\tremaining: 7m 22s\n",
      "2700:\tlearn: 0.9708243\ttotal: 8m 17s\tremaining: 7m 3s\n",
      "2800:\tlearn: 0.9717089\ttotal: 8m 35s\tremaining: 6m 44s\n",
      "2900:\tlearn: 0.9728968\ttotal: 8m 54s\tremaining: 6m 26s\n",
      "3000:\tlearn: 0.9739170\ttotal: 9m 11s\tremaining: 6m 7s\n",
      "3100:\tlearn: 0.9755202\ttotal: 9m 29s\tremaining: 5m 48s\n",
      "3200:\tlearn: 0.9763007\ttotal: 9m 47s\tremaining: 5m 30s\n",
      "3300:\tlearn: 0.9769195\ttotal: 10m 7s\tremaining: 5m 12s\n",
      "3400:\tlearn: 0.9776553\ttotal: 10m 24s\tremaining: 4m 53s\n",
      "3500:\tlearn: 0.9786390\ttotal: 10m 41s\tremaining: 4m 34s\n",
      "3600:\tlearn: 0.9795055\ttotal: 10m 59s\tremaining: 4m 16s\n",
      "3700:\tlearn: 0.9803966\ttotal: 11m 16s\tremaining: 3m 57s\n",
      "3800:\tlearn: 0.9807265\ttotal: 11m 33s\tremaining: 3m 38s\n",
      "3900:\tlearn: 0.9812019\ttotal: 11m 50s\tremaining: 3m 20s\n",
      "4000:\tlearn: 0.9816392\ttotal: 12m 8s\tremaining: 3m 1s\n",
      "4100:\tlearn: 0.9822316\ttotal: 12m 25s\tremaining: 2m 43s\n",
      "4200:\tlearn: 0.9826463\ttotal: 12m 43s\tremaining: 2m 25s\n",
      "4300:\tlearn: 0.9831529\ttotal: 13m\tremaining: 2m 6s\n",
      "4400:\tlearn: 0.9835947\ttotal: 13m 17s\tremaining: 1m 48s\n",
      "4500:\tlearn: 0.9839781\ttotal: 13m 34s\tremaining: 1m 30s\n",
      "4600:\tlearn: 0.9843744\ttotal: 13m 51s\tremaining: 1m 12s\n",
      "4700:\tlearn: 0.9847309\ttotal: 14m 8s\tremaining: 54s\n",
      "4800:\tlearn: 0.9849504\ttotal: 14m 26s\tremaining: 35.9s\n",
      "4900:\tlearn: 0.9852517\ttotal: 14m 43s\tremaining: 17.8s\n",
      "4999:\tlearn: 0.9855266\ttotal: 15m\tremaining: 0us\n"
     ]
    }
   ],
   "source": [
    "model.fit(tr[X],tr[y])\n",
    "pr = model.predict(te[X])"
   ]
  },
  {
   "cell_type": "code",
   "execution_count": 49,
   "metadata": {},
   "outputs": [
    {
     "data": {
      "text/plain": [
       "array([[34859,   917],\n",
       "       [ 1258,  2789]])"
      ]
     },
     "execution_count": 49,
     "metadata": {},
     "output_type": "execute_result"
    }
   ],
   "source": [
    "confusion_matrix(te[y],pr)"
   ]
  },
  {
   "cell_type": "code",
   "execution_count": 59,
   "metadata": {},
   "outputs": [],
   "source": [
    "pb = model.predict_proba(te[X])"
   ]
  },
  {
   "cell_type": "code",
   "execution_count": 87,
   "metadata": {},
   "outputs": [
    {
     "data": {
      "text/plain": [
       "dict_keys(['learn'])"
      ]
     },
     "execution_count": 87,
     "metadata": {},
     "output_type": "execute_result"
    }
   ],
   "source": [
    "model.get_evals_result().keys()"
   ]
  },
  {
   "cell_type": "code",
   "execution_count": 73,
   "metadata": {},
   "outputs": [
    {
     "name": "stdout",
     "output_type": "stream",
     "text": [
      "30 0.7078\n",
      "32 0.7098\n",
      "34 0.7108\n",
      "36 0.7114\n",
      "38 0.7135\n",
      "40 0.7148\n",
      "42 0.7153\n",
      "44 0.7159\n",
      "46 0.7161\n",
      "48 0.7185\n",
      "50 0.7195\n",
      "52 0.7175\n",
      "54 0.7166\n",
      "56 0.717\n",
      "58 0.7177\n",
      "60 0.7188\n",
      "62 0.7181\n",
      "64 0.7154\n",
      "66 0.7137\n",
      "68 0.7121\n"
     ]
    }
   ],
   "source": [
    "for i in range(30,70,2):\n",
    "    print(i, round( f1_score( te[y], (pb>(i/100))[:,1].astype(int)) ,4 ) ) "
   ]
  },
  {
   "cell_type": "markdown",
   "metadata": {},
   "source": [
    "## Выводы"
   ]
  },
  {
   "cell_type": "code",
   "execution_count": null,
   "metadata": {},
   "outputs": [],
   "source": []
  },
  {
   "cell_type": "markdown",
   "metadata": {},
   "source": [
    "## Чек-лист проверки"
   ]
  },
  {
   "cell_type": "markdown",
   "metadata": {},
   "source": [
    "- [x]  Jupyter Notebook открыт\n",
    "- [ ]  Весь код выполняется без ошибок\n",
    "- [ ]  Ячейки с кодом расположены в порядке исполнения\n",
    "- [ ]  Данные загружены и подготовлены\n",
    "- [ ]  Модели обучены\n",
    "- [ ]  Значение метрики *F1* не меньше 0.75\n",
    "- [ ]  Выводы написаны"
   ]
  }
 ],
 "metadata": {
  "kernelspec": {
   "display_name": "Python 3 (ipykernel)",
   "language": "python",
   "name": "python3"
  },
  "language_info": {
   "codemirror_mode": {
    "name": "ipython",
    "version": 3
   },
   "file_extension": ".py",
   "mimetype": "text/x-python",
   "name": "python",
   "nbconvert_exporter": "python",
   "pygments_lexer": "ipython3",
   "version": "3.9.18"
  },
  "toc": {
   "base_numbering": 1,
   "nav_menu": {},
   "number_sections": true,
   "sideBar": true,
   "skip_h1_title": true,
   "title_cell": "Содержание",
   "title_sidebar": "Contents",
   "toc_cell": true,
   "toc_position": {
    "height": "calc(100% - 180px)",
    "left": "10px",
    "top": "150px",
    "width": "302.391px"
   },
   "toc_section_display": true,
   "toc_window_display": false
  }
 },
 "nbformat": 4,
 "nbformat_minor": 2
}
