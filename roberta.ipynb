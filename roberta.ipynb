{
 "cells": [
  {
   "cell_type": "code",
   "execution_count": 1,
   "id": "f0fa2171",
   "metadata": {},
   "outputs": [],
   "source": [
    "import pandas as pd\n",
    "from transformers import pipeline\n",
    "from sklearn.metrics import f1_score,precision_score,recall_score,accuracy_score,confusion_matrix"
   ]
  },
  {
   "cell_type": "code",
   "execution_count": 2,
   "id": "11981f4e",
   "metadata": {},
   "outputs": [
    {
     "name": "stdout",
     "output_type": "stream",
     "text": [
      "MemTotal:        3856324 kB\r\n",
      "MemFree:         2261396 kB\r\n",
      "MemAvailable:    2944660 kB\r\n"
     ]
    }
   ],
   "source": [
    "!cat /proc/meminfo | grep Mem"
   ]
  },
  {
   "cell_type": "code",
   "execution_count": 3,
   "id": "c15e9d6e",
   "metadata": {},
   "outputs": [],
   "source": [
    "df = pd.read_csv('/datasets/toxic_comments.csv',index_col=0,encoding='utf-8')"
   ]
  },
  {
   "cell_type": "code",
   "execution_count": 41,
   "id": "2786118e",
   "metadata": {},
   "outputs": [
    {
     "name": "stdout",
     "output_type": "stream",
     "text": [
      "CPU times: user 4.01 s, sys: 19.5 ms, total: 4.03 s\n",
      "Wall time: 4.03 s\n"
     ]
    }
   ],
   "source": [
    "%%time\n",
    "import re\n",
    "from nltk.stem import LancasterStemmer\n",
    "lst = LancasterStemmer()\n",
    "stemmer = lst.stem\n",
    "\n",
    "def lemmatize(text):\n",
    "    text = ''.join( re.sub(r\"([^a-z\\'])+\",' ',text.lower()) )\n",
    "    return ''.join( stemmer(text)).strip('\\n')[:512] )               \n",
    "\n",
    "# lemmatize(df.text[2])                    \n",
    "df['lemmas'] = df.text.apply(lemmatize)"
   ]
  },
  {
   "cell_type": "code",
   "execution_count": 87,
   "id": "2164274b",
   "metadata": {},
   "outputs": [
    {
     "data": {
      "text/plain": [
       "\"Accept my apology! \\n\\nAccept my apology THIS MINUTE you big, fat noob (this is doughnuthead talking,and if you don't think so, tough.)78.144.87.71\""
      ]
     },
     "execution_count": 87,
     "metadata": {},
     "output_type": "execute_result"
    }
   ],
   "source": [
    "df.loc[ 116444,'text' ]"
   ]
  },
  {
   "cell_type": "code",
   "execution_count": 4,
   "id": "e927360e",
   "metadata": {},
   "outputs": [
    {
     "name": "stdout",
     "output_type": "stream",
     "text": [
      "CPU times: user 17.6 s, sys: 13.8 s, total: 31.4 s\n",
      "Wall time: 22.6 s\n"
     ]
    }
   ],
   "source": [
    "%%time\n",
    "sentiment_analysis = pipeline(\"sentiment-analysis\",model=\"siebert/sentiment-roberta-large-english\")"
   ]
  },
  {
   "cell_type": "code",
   "execution_count": 5,
   "id": "410ad7da",
   "metadata": {},
   "outputs": [
    {
     "name": "stdout",
     "output_type": "stream",
     "text": [
      "MemTotal:        3856324 kB\r\n",
      "MemFree:         1408928 kB\r\n",
      "MemAvailable:    1822964 kB\r\n"
     ]
    }
   ],
   "source": [
    "!cat /proc/meminfo | grep Mem"
   ]
  },
  {
   "cell_type": "code",
   "execution_count": 67,
   "id": "7e6d2a27",
   "metadata": {},
   "outputs": [],
   "source": [
    "sample = df.sample(1000)"
   ]
  },
  {
   "cell_type": "code",
   "execution_count": 68,
   "id": "7bb03350",
   "metadata": {},
   "outputs": [
    {
     "name": "stdout",
     "output_type": "stream",
     "text": [
      "CPU times: user 27min 17s, sys: 6.61 s, total: 27min 24s\n",
      "Wall time: 6min 51s\n"
     ]
    }
   ],
   "source": [
    "%%time\n",
    "pr0 = sentiment_analysis(list( sample.lemmas ) )"
   ]
  },
  {
   "cell_type": "code",
   "execution_count": 52,
   "id": "8fc94f71",
   "metadata": {},
   "outputs": [
    {
     "data": {
      "text/plain": [
       "0     {'label': 'NEGATIVE', 'score': 0.9957147240638...\n",
       "1     {'label': 'POSITIVE', 'score': 0.9915220737457...\n",
       "2     {'label': 'NEGATIVE', 'score': 0.9994970560073...\n",
       "3     {'label': 'NEGATIVE', 'score': 0.9980974793434...\n",
       "4     {'label': 'POSITIVE', 'score': 0.9973760843276...\n",
       "                            ...                        \n",
       "95    {'label': 'NEGATIVE', 'score': 0.9985480904579...\n",
       "96    {'label': 'POSITIVE', 'score': 0.998691737651825}\n",
       "97    {'label': 'NEGATIVE', 'score': 0.9975747466087...\n",
       "98    {'label': 'NEGATIVE', 'score': 0.9976218342781...\n",
       "99    {'label': 'NEGATIVE', 'score': 0.9944867491722...\n",
       "Length: 100, dtype: object"
      ]
     },
     "execution_count": 52,
     "metadata": {},
     "output_type": "execute_result"
    }
   ],
   "source": [
    "pd.Series(  pr0)"
   ]
  },
  {
   "cell_type": "code",
   "execution_count": 71,
   "id": "bde415e1",
   "metadata": {},
   "outputs": [],
   "source": [
    "pr1 = pd.DataFrame( [ [ int(x['label']=='NEGATIVE'),x['score'] ] for x in pr0],\n",
    "                   columns=['label','score'] ,index=sample.index)\n",
    "res = pd.concat([ sample,pr1 ]  , axis=1)"
   ]
  },
  {
   "cell_type": "code",
   "execution_count": 84,
   "id": "dc461b3b",
   "metadata": {},
   "outputs": [
    {
     "data": {
      "text/html": [
       "<div>\n",
       "<style scoped>\n",
       "    .dataframe tbody tr th:only-of-type {\n",
       "        vertical-align: middle;\n",
       "    }\n",
       "\n",
       "    .dataframe tbody tr th {\n",
       "        vertical-align: top;\n",
       "    }\n",
       "\n",
       "    .dataframe thead th {\n",
       "        text-align: right;\n",
       "    }\n",
       "</style>\n",
       "<table border=\"1\" class=\"dataframe\">\n",
       "  <thead>\n",
       "    <tr style=\"text-align: right;\">\n",
       "      <th></th>\n",
       "      <th>text</th>\n",
       "      <th>toxic</th>\n",
       "      <th>lemmas</th>\n",
       "      <th>label</th>\n",
       "      <th>score</th>\n",
       "    </tr>\n",
       "  </thead>\n",
       "  <tbody>\n",
       "    <tr>\n",
       "      <th>116444</th>\n",
       "      <td>Accept my apology! \\n\\nAccept my apology THIS ...</td>\n",
       "      <td>1</td>\n",
       "      <td>accept my apology accept my apology this minut...</td>\n",
       "      <td>0</td>\n",
       "      <td>0.991083</td>\n",
       "    </tr>\n",
       "    <tr>\n",
       "      <th>114687</th>\n",
       "      <td>Epbr123 is a bigger faggot then wikipedia and ...</td>\n",
       "      <td>1</td>\n",
       "      <td>epbr is a bigger faggot then wikipedia and lov...</td>\n",
       "      <td>0</td>\n",
       "      <td>0.996384</td>\n",
       "    </tr>\n",
       "    <tr>\n",
       "      <th>155051</th>\n",
       "      <td>\"\\n\\n Yoshendi \\n\\nHello! I acknowledge why yo...</td>\n",
       "      <td>1</td>\n",
       "      <td>yoshendi hello i acknowledge why you have del...</td>\n",
       "      <td>0</td>\n",
       "      <td>0.996584</td>\n",
       "    </tr>\n",
       "    <tr>\n",
       "      <th>442</th>\n",
       "      <td>Hi \\n\\nIm a fucking bitch.\\n\\n50.180.208.181</td>\n",
       "      <td>1</td>\n",
       "      <td>hi im a fucking bitch</td>\n",
       "      <td>0</td>\n",
       "      <td>0.985596</td>\n",
       "    </tr>\n",
       "    <tr>\n",
       "      <th>153296</th>\n",
       "      <td>\"\\n\\nBarnstar\\n\\n  The Working Donkey's Barnst...</td>\n",
       "      <td>1</td>\n",
       "      <td>barnstar the working donkey's barnstar for wo...</td>\n",
       "      <td>0</td>\n",
       "      <td>0.998497</td>\n",
       "    </tr>\n",
       "    <tr>\n",
       "      <th>148072</th>\n",
       "      <td>\" (UTC)\\nThat is very rich coming from you. Do...</td>\n",
       "      <td>1</td>\n",
       "      <td>utc that is very rich coming from you don't f...</td>\n",
       "      <td>0</td>\n",
       "      <td>0.993505</td>\n",
       "    </tr>\n",
       "    <tr>\n",
       "      <th>149157</th>\n",
       "      <td>For sanity's sake I hope santa gets you a new ...</td>\n",
       "      <td>1</td>\n",
       "      <td>for sanity's sake i hope santa gets you a new ...</td>\n",
       "      <td>0</td>\n",
       "      <td>0.979370</td>\n",
       "    </tr>\n",
       "    <tr>\n",
       "      <th>36903</th>\n",
       "      <td>love to suck fat, black cock. I</td>\n",
       "      <td>1</td>\n",
       "      <td>love to suck fat black cock i</td>\n",
       "      <td>0</td>\n",
       "      <td>0.996386</td>\n",
       "    </tr>\n",
       "    <tr>\n",
       "      <th>72412</th>\n",
       "      <td>Hmm, I had never heard of him so perhaps not, ...</td>\n",
       "      <td>1</td>\n",
       "      <td>hmm i had never heard of him so perhaps not be...</td>\n",
       "      <td>0</td>\n",
       "      <td>0.982621</td>\n",
       "    </tr>\n",
       "  </tbody>\n",
       "</table>\n",
       "</div>"
      ],
      "text/plain": [
       "                                                     text  toxic  \\\n",
       "116444  Accept my apology! \\n\\nAccept my apology THIS ...      1   \n",
       "114687  Epbr123 is a bigger faggot then wikipedia and ...      1   \n",
       "155051  \"\\n\\n Yoshendi \\n\\nHello! I acknowledge why yo...      1   \n",
       "442          Hi \\n\\nIm a fucking bitch.\\n\\n50.180.208.181      1   \n",
       "153296  \"\\n\\nBarnstar\\n\\n  The Working Donkey's Barnst...      1   \n",
       "148072  \" (UTC)\\nThat is very rich coming from you. Do...      1   \n",
       "149157  For sanity's sake I hope santa gets you a new ...      1   \n",
       "36903                     love to suck fat, black cock. I      1   \n",
       "72412   Hmm, I had never heard of him so perhaps not, ...      1   \n",
       "\n",
       "                                                   lemmas  label     score  \n",
       "116444  accept my apology accept my apology this minut...      0  0.991083  \n",
       "114687  epbr is a bigger faggot then wikipedia and lov...      0  0.996384  \n",
       "155051   yoshendi hello i acknowledge why you have del...      0  0.996584  \n",
       "442                                hi im a fucking bitch       0  0.985596  \n",
       "153296   barnstar the working donkey's barnstar for wo...      0  0.998497  \n",
       "148072   utc that is very rich coming from you don't f...      0  0.993505  \n",
       "149157  for sanity's sake i hope santa gets you a new ...      0  0.979370  \n",
       "36903                       love to suck fat black cock i      0  0.996386  \n",
       "72412   hmm i had never heard of him so perhaps not be...      0  0.982621  "
      ]
     },
     "execution_count": 84,
     "metadata": {},
     "output_type": "execute_result"
    }
   ],
   "source": [
    "res[(res.toxic==1) & (res.label== 0)]"
   ]
  },
  {
   "cell_type": "code",
   "execution_count": 72,
   "id": "473500d7",
   "metadata": {},
   "outputs": [
    {
     "name": "stdout",
     "output_type": "stream",
     "text": [
      "MemTotal:        3856324 kB\r\n",
      "MemFree:          330284 kB\r\n",
      "MemAvailable:    1180268 kB\r\n"
     ]
    }
   ],
   "source": [
    "!cat /proc/meminfo | grep Mem"
   ]
  },
  {
   "cell_type": "code",
   "execution_count": 83,
   "id": "623e7331",
   "metadata": {},
   "outputs": [
    {
     "name": "stdout",
     "output_type": "stream",
     "text": [
      "f1_score\t 0.23192019950124687 \n",
      "precision_score\t 0.13285714285714287 \n",
      "recall_score\t 0.9117647058823529 \n",
      "accuracy_score\t 0.384 \n"
     ]
    }
   ],
   "source": [
    "for metric in [f1_score,precision_score,recall_score,accuracy_score]:\n",
    "    print( f\"{metric.__name__}\\t {metric(sample.toxic,pr1.label)} \" )"
   ]
  },
  {
   "cell_type": "code",
   "execution_count": 44,
   "id": "0454c5d6",
   "metadata": {},
   "outputs": [
    {
     "data": {
      "text/plain": [
       "[{'label': 'NEGATIVE', 'score': 0.9957147240638733},\n",
       " {'label': 'POSITIVE', 'score': 0.9915220737457275},\n",
       " {'label': 'NEGATIVE', 'score': 0.9994970560073853},\n",
       " {'label': 'NEGATIVE', 'score': 0.9980974793434143},\n",
       " {'label': 'POSITIVE', 'score': 0.9973760843276978},\n",
       " {'label': 'POSITIVE', 'score': 0.9987456798553467},\n",
       " {'label': 'NEGATIVE', 'score': 0.9992076754570007},\n",
       " {'label': 'NEGATIVE', 'score': 0.9969756603240967},\n",
       " {'label': 'NEGATIVE', 'score': 0.9994739890098572},\n",
       " {'label': 'POSITIVE', 'score': 0.9938358664512634},\n",
       " {'label': 'NEGATIVE', 'score': 0.9767663478851318},\n",
       " {'label': 'POSITIVE', 'score': 0.9965537786483765},\n",
       " {'label': 'NEGATIVE', 'score': 0.9989187717437744},\n",
       " {'label': 'NEGATIVE', 'score': 0.9993783235549927},\n",
       " {'label': 'POSITIVE', 'score': 0.9957348704338074},\n",
       " {'label': 'POSITIVE', 'score': 0.9928533434867859},\n",
       " {'label': 'NEGATIVE', 'score': 0.9978758096694946},\n",
       " {'label': 'NEGATIVE', 'score': 0.9925879836082458},\n",
       " {'label': 'NEGATIVE', 'score': 0.999473512172699},\n",
       " {'label': 'NEGATIVE', 'score': 0.9986341595649719},\n",
       " {'label': 'NEGATIVE', 'score': 0.9994876384735107},\n",
       " {'label': 'POSITIVE', 'score': 0.9952958226203918},\n",
       " {'label': 'NEGATIVE', 'score': 0.999333918094635},\n",
       " {'label': 'NEGATIVE', 'score': 0.9993252754211426},\n",
       " {'label': 'NEGATIVE', 'score': 0.999420166015625},\n",
       " {'label': 'NEGATIVE', 'score': 0.949883759021759},\n",
       " {'label': 'NEGATIVE', 'score': 0.9885750412940979},\n",
       " {'label': 'NEGATIVE', 'score': 0.9977471232414246},\n",
       " {'label': 'NEGATIVE', 'score': 0.9969856142997742},\n",
       " {'label': 'POSITIVE', 'score': 0.9978038668632507},\n",
       " {'label': 'NEGATIVE', 'score': 0.9988691210746765},\n",
       " {'label': 'NEGATIVE', 'score': 0.9991820454597473},\n",
       " {'label': 'POSITIVE', 'score': 0.9978609681129456},\n",
       " {'label': 'NEGATIVE', 'score': 0.9989994168281555},\n",
       " {'label': 'POSITIVE', 'score': 0.9954794645309448},\n",
       " {'label': 'POSITIVE', 'score': 0.9956661462783813},\n",
       " {'label': 'POSITIVE', 'score': 0.9974384307861328},\n",
       " {'label': 'NEGATIVE', 'score': 0.995177149772644},\n",
       " {'label': 'NEGATIVE', 'score': 0.9994031190872192},\n",
       " {'label': 'NEGATIVE', 'score': 0.9890943169593811},\n",
       " {'label': 'POSITIVE', 'score': 0.9864152073860168},\n",
       " {'label': 'NEGATIVE', 'score': 0.9983144998550415},\n",
       " {'label': 'NEGATIVE', 'score': 0.9982048273086548},\n",
       " {'label': 'NEGATIVE', 'score': 0.9962899684906006},\n",
       " {'label': 'NEGATIVE', 'score': 0.9994831085205078},\n",
       " {'label': 'NEGATIVE', 'score': 0.9980339407920837},\n",
       " {'label': 'POSITIVE', 'score': 0.9983213543891907},\n",
       " {'label': 'NEGATIVE', 'score': 0.9993842840194702},\n",
       " {'label': 'NEGATIVE', 'score': 0.9994743466377258},\n",
       " {'label': 'NEGATIVE', 'score': 0.9957273006439209},\n",
       " {'label': 'NEGATIVE', 'score': 0.9991675615310669},\n",
       " {'label': 'NEGATIVE', 'score': 0.9959689378738403},\n",
       " {'label': 'NEGATIVE', 'score': 0.9990206956863403},\n",
       " {'label': 'POSITIVE', 'score': 0.9922807812690735},\n",
       " {'label': 'NEGATIVE', 'score': 0.9953081011772156},\n",
       " {'label': 'NEGATIVE', 'score': 0.9994555115699768},\n",
       " {'label': 'POSITIVE', 'score': 0.8865731358528137},\n",
       " {'label': 'NEGATIVE', 'score': 0.9994945526123047},\n",
       " {'label': 'NEGATIVE', 'score': 0.9992534518241882},\n",
       " {'label': 'NEGATIVE', 'score': 0.9993914365768433},\n",
       " {'label': 'NEGATIVE', 'score': 0.9994297623634338},\n",
       " {'label': 'POSITIVE', 'score': 0.9959481358528137},\n",
       " {'label': 'NEGATIVE', 'score': 0.9977298378944397},\n",
       " {'label': 'NEGATIVE', 'score': 0.9893985986709595},\n",
       " {'label': 'NEGATIVE', 'score': 0.9983811378479004},\n",
       " {'label': 'NEGATIVE', 'score': 0.995400607585907},\n",
       " {'label': 'NEGATIVE', 'score': 0.9890784621238708},\n",
       " {'label': 'NEGATIVE', 'score': 0.9893255233764648},\n",
       " {'label': 'NEGATIVE', 'score': 0.9994933605194092},\n",
       " {'label': 'NEGATIVE', 'score': 0.9985964894294739},\n",
       " {'label': 'NEGATIVE', 'score': 0.992923378944397},\n",
       " {'label': 'NEGATIVE', 'score': 0.9994611144065857},\n",
       " {'label': 'NEGATIVE', 'score': 0.99924635887146},\n",
       " {'label': 'POSITIVE', 'score': 0.9866987466812134},\n",
       " {'label': 'NEGATIVE', 'score': 0.9981470108032227},\n",
       " {'label': 'NEGATIVE', 'score': 0.9994315505027771},\n",
       " {'label': 'NEGATIVE', 'score': 0.9986553192138672},\n",
       " {'label': 'NEGATIVE', 'score': 0.9859387874603271},\n",
       " {'label': 'NEGATIVE', 'score': 0.9991395473480225},\n",
       " {'label': 'NEGATIVE', 'score': 0.9938598871231079},\n",
       " {'label': 'NEGATIVE', 'score': 0.9975589513778687},\n",
       " {'label': 'NEGATIVE', 'score': 0.999494194984436},\n",
       " {'label': 'NEGATIVE', 'score': 0.9929254055023193},\n",
       " {'label': 'POSITIVE', 'score': 0.9945196509361267},\n",
       " {'label': 'POSITIVE', 'score': 0.9978353381156921},\n",
       " {'label': 'NEGATIVE', 'score': 0.9980485439300537},\n",
       " {'label': 'NEGATIVE', 'score': 0.9994776844978333},\n",
       " {'label': 'NEGATIVE', 'score': 0.9975799322128296},\n",
       " {'label': 'POSITIVE', 'score': 0.9932816028594971},\n",
       " {'label': 'POSITIVE', 'score': 0.9986120462417603},\n",
       " {'label': 'NEGATIVE', 'score': 0.9991433620452881},\n",
       " {'label': 'NEGATIVE', 'score': 0.9966101050376892},\n",
       " {'label': 'NEGATIVE', 'score': 0.9941627383232117},\n",
       " {'label': 'NEGATIVE', 'score': 0.9914504885673523},\n",
       " {'label': 'NEGATIVE', 'score': 0.9991239905357361},\n",
       " {'label': 'NEGATIVE', 'score': 0.9985480904579163},\n",
       " {'label': 'POSITIVE', 'score': 0.998691737651825},\n",
       " {'label': 'NEGATIVE', 'score': 0.9975747466087341},\n",
       " {'label': 'NEGATIVE', 'score': 0.9976218342781067},\n",
       " {'label': 'NEGATIVE', 'score': 0.9944867491722107}]"
      ]
     },
     "execution_count": 44,
     "metadata": {},
     "output_type": "execute_result"
    }
   ],
   "source": [
    "pr1"
   ]
  },
  {
   "cell_type": "code",
   "execution_count": null,
   "id": "9119dd19",
   "metadata": {},
   "outputs": [],
   "source": []
  }
 ],
 "metadata": {
  "kernelspec": {
   "display_name": "Python 3 (ipykernel)",
   "language": "python",
   "name": "python3"
  },
  "language_info": {
   "codemirror_mode": {
    "name": "ipython",
    "version": 3
   },
   "file_extension": ".py",
   "mimetype": "text/x-python",
   "name": "python",
   "nbconvert_exporter": "python",
   "pygments_lexer": "ipython3",
   "version": "3.9.18"
  }
 },
 "nbformat": 4,
 "nbformat_minor": 5
}
